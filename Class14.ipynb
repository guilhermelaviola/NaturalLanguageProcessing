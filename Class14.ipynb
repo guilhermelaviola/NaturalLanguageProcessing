{
  "nbformat": 4,
  "nbformat_minor": 0,
  "metadata": {
    "colab": {
      "provenance": [],
      "authorship_tag": "ABX9TyOEuO6KmQB/XXlhI3jdmwb+",
      "include_colab_link": true
    },
    "kernelspec": {
      "name": "python3",
      "display_name": "Python 3"
    },
    "language_info": {
      "name": "python"
    }
  },
  "cells": [
    {
      "cell_type": "markdown",
      "metadata": {
        "id": "view-in-github",
        "colab_type": "text"
      },
      "source": [
        "<a href=\"https://colab.research.google.com/github/guilhermelaviola/NaturalLanguageProcessing/blob/main/Class14.ipynb\" target=\"_parent\"><img src=\"https://colab.research.google.com/assets/colab-badge.svg\" alt=\"Open In Colab\"/></a>"
      ]
    },
    {
      "cell_type": "markdown",
      "source": [
        "# **Natural Language Processing application with Chatbots and Virtual Assistants**"
      ],
      "metadata": {
        "id": "0JZcqQ4vdkdn"
      }
    },
    {
      "cell_type": "code",
      "source": [
        "# Importing all the necessary resources:\n",
        "import random\n",
        "from getpass import getpass"
      ],
      "metadata": {
        "id": "a8SYq8xGfYcO"
      },
      "execution_count": 1,
      "outputs": []
    },
    {
      "cell_type": "code",
      "source": [
        "# Defining the database instances:\n",
        "customers = {\n",
        "    '1': {\n",
        "        'balance': 500.00,\n",
        "        'name': 'John Smith',\n",
        "        'password': 'johnpass'\n",
        "    },\n",
        "    '2': {\n",
        "        'balance': 900.00,\n",
        "        'name': 'Jane Anderson',\n",
        "        'pass': 'janepass'\n",
        "    }\n",
        "}"
      ],
      "metadata": {
        "id": "eV7DkJ4IzCR3"
      },
      "execution_count": 2,
      "outputs": []
    },
    {
      "cell_type": "code",
      "source": [
        "# Defining the start function:\n",
        "def start():\n",
        "  welcome = [\n",
        "      'Hello! Welcome to MyBank. How can I help you?'\n",
        "  ]\n",
        "\n",
        "  options = [\n",
        "      ['1 - Log In', login],\n",
        "      ['2 - Create an account', create_account],\n",
        "      ['3 - End chat', end_chat]\n",
        "  ]\n",
        "\n",
        "  print('\\n' + random.choice(welcome))\n",
        "\n",
        "  for option in options:\n",
        "    print(option[0])\n",
        "    choice = input('Escolha um número: ')\n",
        "    options[int(choice)-1][1]()\n",
        "\n"
      ],
      "metadata": {
        "id": "uU0zAO-QzfDU"
      },
      "execution_count": 4,
      "outputs": []
    },
    {
      "cell_type": "code",
      "source": [
        "def create_account():\n",
        "    print('\\nWe are not accepting new account applications at this time. We will let you know when we are open for new applications again!')"
      ],
      "metadata": {
        "id": "h-HPq7Zx61GF"
      },
      "execution_count": null,
      "outputs": []
    },
    {
      "cell_type": "code",
      "source": [
        "def login():\n",
        "  customer = input('\\nWhat is your ID? ').replace('.', '').replace('-', '')\n",
        "\n",
        "  # Check should have been done via API:\n",
        "  if not customer in customers:\n",
        "    print('\\nCustomer not found.')\n",
        "    start()\n",
        "    password = getpass('\\nWhat is your password? ')\n",
        "\n",
        "  # Check should have been done via API:\n",
        "  if password == customers[customer]['password']:\n",
        "    print('\\nCustomers authenticated successfully.')\n",
        "    logged(customers[customer])\n",
        "  else:\n",
        "    print('\\nWrong password, Try again.')\n",
        "    start()"
      ],
      "metadata": {
        "id": "JTz6pAUq65lf"
      },
      "execution_count": null,
      "outputs": []
    },
    {
      "cell_type": "code",
      "source": [
        "def logged(customer):\n",
        "  print(f'\\nHello, {customer['name']}. Your current balance is US${customer['balance']}. What would you like to do?')\n",
        "\n",
        "  options = [\n",
        "        ['1 - Transfer money', transfer],\n",
        "        ['2 - End chat', end_chat]\n",
        "    ]\n",
        "\n",
        "  for option in options:\n",
        "    print(option[0])\n",
        "    choice = input('Pick a number: ')\n",
        "    options[int(choice)-1][1](customer)"
      ],
      "metadata": {
        "id": "SSonuNzR699Q"
      },
      "execution_count": null,
      "outputs": []
    },
    {
      "cell_type": "code",
      "source": [
        "def transfer(customer):\n",
        "  valor = float(input('\\nQuanto gostaria de transferir? R$ '))\n",
        "  destinatario = input(f'\\nDigite o CPF de quem irá receber R${valor}: ')\n",
        "\n",
        "  # Verificação deveria ser via API\n",
        "  nome_destinatario = clientes[destinatario]['nome']\n",
        "\n",
        "  certeza = input(f'\\nTem certeza de que deseja enviar R${valor} para {nome_destinatario}? (sim ou não): ')\n",
        "  if certeza.lower().strip() == 'sim':\n",
        "    # Operação deveria ser via API\n",
        "    cliente['saldo'] -= valor\n",
        "    clientes[destinatario]['saldo'] += valor\n",
        "\n",
        "    print('\\nTransferência realizada com sucesso!')\n",
        "    logado(cliente)\n",
        "  else:\n",
        "    logado(cliente)"
      ],
      "metadata": {
        "id": "Nvqk7_Yi0Pe7"
      },
      "execution_count": null,
      "outputs": []
    },
    {
      "cell_type": "code",
      "source": [
        "def end_chat(customere=None):\n",
        "  encerramento = [\n",
        "      'Até mais!',\n",
        "      'Volte sempre.',\n",
        "      'Espero que tenha gostado dos nossos serviços, tchau!'\n",
        "    ]\n",
        "\n",
        "  print('\\n' + random.choice(encerramento))\n",
        "  return"
      ],
      "metadata": {
        "id": "PxTZSs3n0IqW"
      },
      "execution_count": null,
      "outputs": []
    }
  ]
}