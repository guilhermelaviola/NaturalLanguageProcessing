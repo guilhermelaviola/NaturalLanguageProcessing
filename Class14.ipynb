{
  "nbformat": 4,
  "nbformat_minor": 0,
  "metadata": {
    "colab": {
      "provenance": [],
      "authorship_tag": "ABX9TyMex586GsfZMnWRFxT1HFvi",
      "include_colab_link": true
    },
    "kernelspec": {
      "name": "python3",
      "display_name": "Python 3"
    },
    "language_info": {
      "name": "python"
    }
  },
  "cells": [
    {
      "cell_type": "markdown",
      "metadata": {
        "id": "view-in-github",
        "colab_type": "text"
      },
      "source": [
        "<a href=\"https://colab.research.google.com/github/guilhermelaviola/NaturalLanguageProcessing/blob/main/Class14.ipynb\" target=\"_parent\"><img src=\"https://colab.research.google.com/assets/colab-badge.svg\" alt=\"Open In Colab\"/></a>"
      ]
    },
    {
      "cell_type": "markdown",
      "source": [
        "# **Natural Language Processing application with Chatbots and Virtual Assistants**"
      ],
      "metadata": {
        "id": "0JZcqQ4vdkdn"
      }
    },
    {
      "cell_type": "code",
      "source": [
        "# Importing all the necessary resources:\n",
        "import random\n",
        "from getpass import getpass\n",
        "from transformers import pipeline"
      ],
      "metadata": {
        "id": "a8SYq8xGfYcO"
      },
      "execution_count": 1,
      "outputs": []
    },
    {
      "cell_type": "code",
      "source": [
        "# Defining the database instances:\n",
        "customers = {\n",
        "    '1': {\n",
        "        'balance': 500.00,\n",
        "        'name': 'John Smith',\n",
        "        'password': 'johnpass'\n",
        "    },\n",
        "    '2': {\n",
        "        'balance': 900.00,\n",
        "        'name': 'Jane Anderson',\n",
        "        'pass': 'janepass'\n",
        "    }\n",
        "}"
      ],
      "metadata": {
        "id": "eV7DkJ4IzCR3"
      },
      "execution_count": 2,
      "outputs": []
    },
    {
      "cell_type": "code",
      "source": [
        "# Defining the start function:\n",
        "def start():\n",
        "  welcome = [\n",
        "      'Hello! Welcome to MyBank. How can I help you?'\n",
        "  ]\n",
        "\n",
        "  options = [\n",
        "      ['1 - Log In', login],\n",
        "      ['2 - Create an account', create_account],\n",
        "      ['3 - End chat', end_chat]\n",
        "  ]\n",
        "\n",
        "  print('\\n' + random.choice(welcome))\n",
        "\n",
        "  for option in options:\n",
        "    print(option[0])\n",
        "    choice = input('Escolha um número: ')\n",
        "    options[int(choice)-1][1]()\n",
        "\n"
      ],
      "metadata": {
        "id": "uU0zAO-QzfDU"
      },
      "execution_count": 3,
      "outputs": []
    },
    {
      "cell_type": "code",
      "source": [
        "# Defining the function to create an account:\n",
        "def create_account():\n",
        "    print('\\nWe are not accepting new account applications at this time. We will let you know when we are open for new applications again!')"
      ],
      "metadata": {
        "id": "h-HPq7Zx61GF"
      },
      "execution_count": 4,
      "outputs": []
    },
    {
      "cell_type": "code",
      "source": [
        "# Defining the function to Log In:\n",
        "def login():\n",
        "  customer = input('\\nWhat is your ID? ').replace('.', '').replace('-', '')\n",
        "\n",
        "  # Check should have been done via API:\n",
        "  if not customer in customers:\n",
        "    print('\\nCustomer not found.')\n",
        "    start()\n",
        "    password = getpass('\\nWhat is your password? ')\n",
        "\n",
        "  # Check shall be done via API:\n",
        "  if password == customers[customer]['password']:\n",
        "    print('\\nCustomers authenticated successfully.')\n",
        "    logged(customers[customer])\n",
        "  else:\n",
        "    print('\\nWrong password, Try again.')\n",
        "    start()"
      ],
      "metadata": {
        "id": "JTz6pAUq65lf"
      },
      "execution_count": 10,
      "outputs": []
    },
    {
      "cell_type": "code",
      "source": [
        "# Defining the function for the application to interact with the user once logged in:\n",
        "def logged(customer):\n",
        "  print(f'\\nHello, {customer['name']}. Your current balance is US${customer['balance']}. What would you like to do?')\n",
        "\n",
        "  options = [\n",
        "        ['1 - Transfer money', transfer],\n",
        "        ['2 - End chat', end_chat]\n",
        "    ]\n",
        "\n",
        "  for option in options:\n",
        "    print(option[0])\n",
        "  choice = input('Pick a number: ')\n",
        "  options[int(choice)-1][1](customer)\n",
        "\n",
        "        ['1 - Transfer money', transfer],\n",
        "        ['2 - End chat', end_chat]\n",
        "    ]\n",
        "\n",
        "  for option in options:\n",
        "    print(option[0])\n",
        "    choice = input('Pick a number: ')\n",
        "    options[int(choice)-1][1](customer)"
      ],
      "metadata": {
        "id": "SSonuNzR699Q",
        "outputId": "f06ce2d9-45e4-47d7-e34a-efc8249ea8c2",
        "colab": {
          "base_uri": "https://localhost:8080/",
          "height": 111
        }
      },
      "execution_count": 20,
      "outputs": [
        {
          "output_type": "error",
          "ename": "IndentationError",
          "evalue": "unindent does not match any outer indentation level (<tokenize>, line 17)",
          "traceback": [
            "\u001b[0;36m  File \u001b[0;32m\"<tokenize>\"\u001b[0;36m, line \u001b[0;32m17\u001b[0m\n\u001b[0;31m    ]\u001b[0m\n\u001b[0m    ^\u001b[0m\n\u001b[0;31mIndentationError\u001b[0m\u001b[0;31m:\u001b[0m unindent does not match any outer indentation level\n"
          ]
        }
      ]
    },
    {
      "cell_type": "code",
      "source": [
        "# Defining the function to transfer money:\n",
        "def transfer(customer):\n",
        "  value = float(input('\\nHow much would you like to transfer? US$ '))\n",
        "  receiver = input(f'\\nenter the ID of the person who is going to transfer US${value}: ')\n",
        "\n",
        "  # Check shall be done via API:\n",
        "  receiver_name = customers[receiver]['name']\n",
        "\n",
        "  confirmation = input(f'\\nAre you sure you want to transfer US${value} ti {receiver_name}? (YES or NO): ')\n",
        "  if confirmation.lower().strip() == 'yes':\n",
        "    # Operation shall be done via API:\n",
        "    customer['balance'] -= value\n",
        "    customer[receiver]['balance'] += value\n",
        "\n",
        "    print('\\nTransfer done successfully!')\n",
        "    logged(customer)\n",
        "  else:\n",
        "    logged(customer)"
      ],
      "metadata": {
        "id": "Nvqk7_Yi0Pe7"
      },
      "execution_count": 18,
      "outputs": []
    },
    {
      "cell_type": "code",
      "source": [
        "# Defining the function to end the chat:\n",
        "def end_chat(customere=None):\n",
        "  end = [\n",
        "      'See you!',\n",
        "      'Hope to see you soon!',\n",
        "      'I hope you liked our service, bye!'\n",
        "    ]\n",
        "\n",
        "  print('\\n' + random.choice(end))\n",
        "  return"
      ],
      "metadata": {
        "id": "PxTZSs3n0IqW"
      },
      "execution_count": null,
      "outputs": []
    },
    {
      "cell_type": "code",
      "source": [
        "start()"
      ],
      "metadata": {
        "id": "u0qsL_yYKlH2"
      },
      "execution_count": null,
      "outputs": []
    },
    {
      "cell_type": "code",
      "source": [
        "# Developing a chatbot for sentiment analysis:\n",
        "classifier = pipeline(\n",
        "    model=\"lxyuan/distilbert-base-multilingual-cased-sentiments-student\",\n",
        ")\n",
        "\n",
        "! pip3 install wikipedia\n",
        "import wikipedia\n",
        "wikipedia.set_lang('en')"
      ],
      "metadata": {
        "id": "TnlykOwOK8Gs"
      },
      "execution_count": null,
      "outputs": []
    },
    {
      "cell_type": "code",
      "source": [
        "def start():\n",
        "  question = input('Ask anything:\\n')\n",
        "  results = wikipedia.search(question)\n",
        "  best_result = results[0]\n",
        "  text = wikipedia.page(best_result)\n",
        "  print('\\n' + text.summary)\n",
        "  print(f'\\nSourcee: {best_result} - Wikipedia')\n",
        "  feedback = input('\\nWhst do you think of my response?\\n')\n",
        "  sentiment = classifier(feedback)\n",
        "\n",
        "  responses = [\n",
        "      'I am happy you liked my response!',\n",
        "      'Thank you for your feedback. Hope to hear from you again soon.',\n",
        "      'I am sorry you did not like my response. Would you like to try another question?'\n",
        "  ]\n",
        "\n",
        "  if sentiment[0]['label'] == 'positive' and sentiment[0]['score'] > 0.6:\n",
        "    print('\\n' + responses[0])\n",
        "  elif sentiment[0]['label'] == 'negative' and sentiment[0]['score'] > 0.6:\n",
        "    print('\\n' + responses[2])\n",
        "  else:\n",
        "    print('\\n' + responses[1])\n",
        "  return sentiment"
      ],
      "metadata": {
        "id": "LoF9NrOeLOUX"
      },
      "execution_count": null,
      "outputs": []
    },
    {
      "cell_type": "code",
      "source": [
        "start()"
      ],
      "metadata": {
        "id": "KiqWj2T8M35G"
      },
      "execution_count": null,
      "outputs": []
    }
  ]
}