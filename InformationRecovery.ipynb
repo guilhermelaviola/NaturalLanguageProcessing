{
  "nbformat": 4,
  "nbformat_minor": 0,
  "metadata": {
    "colab": {
      "provenance": [],
      "authorship_tag": "ABX9TyOmvIjHs7+b3D7viit1jDKX",
      "include_colab_link": true
    },
    "kernelspec": {
      "name": "python3",
      "display_name": "Python 3"
    },
    "language_info": {
      "name": "python"
    }
  },
  "cells": [
    {
      "cell_type": "markdown",
      "metadata": {
        "id": "view-in-github",
        "colab_type": "text"
      },
      "source": [
        "<a href=\"https://colab.research.google.com/github/guilhermelaviola/NaturalLanguageProcessing/blob/main/InformationRecovery.ipynb\" target=\"_parent\"><img src=\"https://colab.research.google.com/assets/colab-badge.svg\" alt=\"Open In Colab\"/></a>"
      ]
    },
    {
      "cell_type": "markdown",
      "source": [
        "# **Information Recovery**"
      ],
      "metadata": {
        "id": "HwHb6VD22ge3"
      }
    },
    {
      "cell_type": "code",
      "source": [
        "!pip install python-Levenshtein"
      ],
      "metadata": {
        "colab": {
          "base_uri": "https://localhost:8080/"
        },
        "id": "enxK_GAzwaFJ",
        "outputId": "c5f198f3-1b6d-4348-ad94-e0669c05538a"
      },
      "execution_count": 5,
      "outputs": [
        {
          "output_type": "stream",
          "name": "stdout",
          "text": [
            "Requirement already satisfied: python-Levenshtein in /usr/local/lib/python3.11/dist-packages (0.26.1)\n",
            "Requirement already satisfied: Levenshtein==0.26.1 in /usr/local/lib/python3.11/dist-packages (from python-Levenshtein) (0.26.1)\n",
            "Requirement already satisfied: rapidfuzz<4.0.0,>=3.9.0 in /usr/local/lib/python3.11/dist-packages (from Levenshtein==0.26.1->python-Levenshtein) (3.12.1)\n"
          ]
        }
      ]
    },
    {
      "cell_type": "code",
      "source": [
        "# Importing all the necessary libraries:\n",
        "import nltk\n",
        "from nltk.tokenize import word_tokenize\n",
        "from nltk.corpus import stopwords\n",
        "import numpy as np\n",
        "from collections import Counter\n",
        "from Levenshtein import distance as levenshtein_distance"
      ],
      "metadata": {
        "id": "qGLoLTMIuwQX"
      },
      "execution_count": 6,
      "outputs": []
    },
    {
      "cell_type": "code",
      "source": [
        "# Downloading necessary NLTK resources:\n",
        "nltk.download('punkt_tab')\n",
        "nltk.download('stopwords')"
      ],
      "metadata": {
        "colab": {
          "base_uri": "https://localhost:8080/"
        },
        "id": "SRakntIvwRQx",
        "outputId": "7e37e47e-8a15-4f41-f208-95446dd694ac"
      },
      "execution_count": 7,
      "outputs": [
        {
          "output_type": "stream",
          "name": "stderr",
          "text": [
            "[nltk_data] Downloading package punkt_tab to /root/nltk_data...\n",
            "[nltk_data]   Package punkt_tab is already up-to-date!\n",
            "[nltk_data] Downloading package stopwords to /root/nltk_data...\n",
            "[nltk_data]   Package stopwords is already up-to-date!\n"
          ]
        },
        {
          "output_type": "execute_result",
          "data": {
            "text/plain": [
              "True"
            ]
          },
          "metadata": {},
          "execution_count": 7
        }
      ]
    },
    {
      "cell_type": "code",
      "source": [
        "# Example text and query\n",
        "# Opening and displaying the .txt file:\n",
        "with open('texto.txt') as f:\n",
        "  text = f.read()\n",
        "print(text)\n",
        "\n",
        "query = 'importância do processamento de linguagem natural'"
      ],
      "metadata": {
        "colab": {
          "base_uri": "https://localhost:8080/"
        },
        "id": "INweZee0y-sL",
        "outputId": "ac65beae-663f-4e08-cd52-14482a84aae2"
      },
      "execution_count": 8,
      "outputs": [
        {
          "output_type": "stream",
          "name": "stdout",
          "text": [
            "A crescente quantidade de dados textuais gerada diariamente tem impulsionado a importância do processamento de linguagem natural (PLN) e das técnicas de recuperação de informação (RI). Com o objetivo de extrair informações relevantes de grandes volumes de dados, a RI utiliza métodos avançados para encontrar e classificar documentos que atendam a consultas específicas dos usuários. A distância de Levenshtein e o modelo bag-of-words são duas abordagens distintas, mas eficazes, para medir a similaridade entre textos e consultas. A distância de Levenshtein calcula o número mínimo de operações necessárias para transformar uma string em outra, enquanto o modelo bag-of-words representa os textos como vetores de frequência de palavras, permitindo a comparação baseada na similaridade vetorial. Essas técnicas são fundamentais para melhorar a precisão dos sistemas de busca e a relevância dos resultados apresentados aos usuários.\n"
          ]
        }
      ]
    },
    {
      "cell_type": "code",
      "source": [
        "# Defining the stopwords in Portuguese and tokenizing the words:\n",
        "def preprocess_text(text):\n",
        "    stop_words = set(stopwords.words('portuguese'))\n",
        "    tokens = word_tokenize(text.lower())\n",
        "    tokens = [word for word in tokens if word.isalnum() and word not in stop_words]\n",
        "    return tokens"
      ],
      "metadata": {
        "id": "w41Dm0JBwOqx"
      },
      "execution_count": 9,
      "outputs": []
    },
    {
      "cell_type": "code",
      "source": [
        "# Preprocessing the text and query:\n",
        "tokens_text = preprocess_text(text)\n",
        "tokens_query = preprocess_text(query)"
      ],
      "metadata": {
        "id": "uLgaB6QWzMSi"
      },
      "execution_count": 10,
      "outputs": []
    },
    {
      "cell_type": "code",
      "source": [
        "# Implementing the ri_levenshtein function to calculate the Levenshtein distance between the query and the documents:\n",
        "def ri_levenshtein(query, text):\n",
        "    distance = levenshtein_distance(query, text)\n",
        "    print(f'Levenshtein Distance: {distance}')\n",
        "\n",
        "ri_levenshtein(query, text)"
      ],
      "metadata": {
        "colab": {
          "base_uri": "https://localhost:8080/"
        },
        "id": "fHo1RF8MzxPw",
        "outputId": "09a04401-9de6-4c62-bedd-c7bc72acc470"
      },
      "execution_count": 11,
      "outputs": [
        {
          "output_type": "stream",
          "name": "stdout",
          "text": [
            "Levenshtein Distance: 882\n"
          ]
        }
      ]
    },
    {
      "cell_type": "code",
      "source": [
        "# Implementating of Information Retrieval Using Bag-of-Words:\n",
        "def ri_bag_of_words(query_tokens, text_tokens):\n",
        "    query_counter = Counter(query_tokens)\n",
        "    text_counter = Counter(text_tokens)\n",
        "    all_words = set(query_counter.keys()).union(set(text_counter.keys()))\n",
        "\n",
        "    # Creating vector representations:\n",
        "    query_vector = np.array([query_counter[word] for word in all_words])\n",
        "    text_vector = np.array([text_counter[word] for word in all_words])\n",
        "\n",
        "    # Computing cosine similarity:\n",
        "    dot_product = np.dot(query_vector, text_vector)\n",
        "    norm_query = np.linalg.norm(query_vector)\n",
        "    norm_text = np.linalg.norm(text_vector)\n",
        "    similarity = dot_product / (norm_query * norm_text) if norm_query and norm_text else 0\n",
        "\n",
        "    print(f'Bag-of-Words Similarity: {similarity:.4f}')\n",
        "\n",
        "ri_bag_of_words(tokens_query, tokens_text)"
      ],
      "metadata": {
        "colab": {
          "base_uri": "https://localhost:8080/"
        },
        "id": "ZvfuBUHb0BrH",
        "outputId": "f6ed23dd-687a-4129-c6f5-a43f930ca2f8"
      },
      "execution_count": 12,
      "outputs": [
        {
          "output_type": "stream",
          "name": "stdout",
          "text": [
            "Bag-of-Words Similarity: 0.2031\n"
          ]
        }
      ]
    }
  ]
}