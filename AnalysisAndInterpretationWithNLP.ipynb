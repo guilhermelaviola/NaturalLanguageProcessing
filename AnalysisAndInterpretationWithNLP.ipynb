{
  "nbformat": 4,
  "nbformat_minor": 0,
  "metadata": {
    "colab": {
      "provenance": [],
      "authorship_tag": "ABX9TyPD3f0nDZHyNL9Bts5ADNxP",
      "include_colab_link": true
    },
    "kernelspec": {
      "name": "python3",
      "display_name": "Python 3"
    },
    "language_info": {
      "name": "python"
    }
  },
  "cells": [
    {
      "cell_type": "markdown",
      "metadata": {
        "id": "view-in-github",
        "colab_type": "text"
      },
      "source": [
        "<a href=\"https://colab.research.google.com/github/guilhermelaviola/NaturalLanguageProcessing/blob/main/AnalysisAndInterpretationWithNLP.ipynb\" target=\"_parent\"><img src=\"https://colab.research.google.com/assets/colab-badge.svg\" alt=\"Open In Colab\"/></a>"
      ]
    },
    {
      "cell_type": "code",
      "source": [
        "# Importanting all the necessary libraries:\n",
        "import nltk\n",
        "import gensim\n",
        "nltk.download('stopwords')\n",
        "nltk.download('punkt_tab')\n",
        "nltk.download('rslp') # Downloading the necessary data for RSLPStemmer\n",
        "from nltk.corpus import stopwords\n",
        "from nltk.stem import RSLPStemmer\n",
        "from nltk.tokenize import word_tokenize\n",
        "from gensim.models import Word2Vec"
      ],
      "metadata": {
        "colab": {
          "base_uri": "https://localhost:8080/",
          "height": 0
        },
        "id": "ewU1Uo3ir6h4",
        "outputId": "3c5026fb-6f39-48ff-c902-c9e34c12976f"
      },
      "execution_count": 39,
      "outputs": [
        {
          "output_type": "stream",
          "name": "stderr",
          "text": [
            "[nltk_data] Downloading package stopwords to /root/nltk_data...\n",
            "[nltk_data]   Package stopwords is already up-to-date!\n",
            "[nltk_data] Downloading package punkt_tab to /root/nltk_data...\n",
            "[nltk_data]   Package punkt_tab is already up-to-date!\n",
            "[nltk_data] Downloading package rslp to /root/nltk_data...\n",
            "[nltk_data]   Package rslp is already up-to-date!\n"
          ]
        }
      ]
    },
    {
      "cell_type": "code",
      "source": [
        "# Loading Portuguese stopwords and stemmer:\n",
        "stop_words = set(stopwords.words('portuguese'))\n",
        "stemmer = RSLPStemmer()"
      ],
      "metadata": {
        "id": "ZUqy7_ZSutHn"
      },
      "execution_count": 40,
      "outputs": []
    },
    {
      "cell_type": "code",
      "source": [
        "# Opening and displaying the .txt file:\n",
        "with open('texto.txt') as f:\n",
        "  text = f.read()\n",
        "\n",
        "print(text)"
      ],
      "metadata": {
        "colab": {
          "base_uri": "https://localhost:8080/",
          "height": 0
        },
        "id": "BysJX_usuQEA",
        "outputId": "b805cf13-9a33-45c5-e96d-e5458473ce05"
      },
      "execution_count": 41,
      "outputs": [
        {
          "output_type": "stream",
          "name": "stdout",
          "text": [
            "Com a evolução contínua da tecnologia, o processamento de linguagem natural (PLN) tornou-se uma ferramenta essencial na análise de grandes volumes de dados textuais. O PLN permite que máquinas compreendam e interpretem a linguagem humana, facilitando a extração de informações valiosas e a automação de tarefas que antes exigiam intervenção humana. Técnicas avançadas de PLN são utilizadas em diversas aplicações, desde assistentes virtuais até sistemas de recomendação, contribuindo significativamente para a eficiência e a personalização dos serviços oferecidos. À medida que o campo avança, novas metodologias e algoritmos são desenvolvidos para aprimorar a precisão e a eficácia do PLN, tornando-o uma área de estudo fascinante e em constante evolução.\n"
          ]
        }
      ]
    },
    {
      "cell_type": "code",
      "source": [
        "# Tokenizing the text:\n",
        "tokens = word_tokenize(text.lower())\n",
        "tokens"
      ],
      "metadata": {
        "colab": {
          "base_uri": "https://localhost:8080/",
          "height": 0
        },
        "id": "4c5Bumv3uWsd",
        "outputId": "ed15a2e6-799e-4b9d-8bab-2701fd2232ba"
      },
      "execution_count": 42,
      "outputs": [
        {
          "output_type": "execute_result",
          "data": {
            "text/plain": [
              "['com',\n",
              " 'a',\n",
              " 'evolução',\n",
              " 'contínua',\n",
              " 'da',\n",
              " 'tecnologia',\n",
              " ',',\n",
              " 'o',\n",
              " 'processamento',\n",
              " 'de',\n",
              " 'linguagem',\n",
              " 'natural',\n",
              " '(',\n",
              " 'pln',\n",
              " ')',\n",
              " 'tornou-se',\n",
              " 'uma',\n",
              " 'ferramenta',\n",
              " 'essencial',\n",
              " 'na',\n",
              " 'análise',\n",
              " 'de',\n",
              " 'grandes',\n",
              " 'volumes',\n",
              " 'de',\n",
              " 'dados',\n",
              " 'textuais',\n",
              " '.',\n",
              " 'o',\n",
              " 'pln',\n",
              " 'permite',\n",
              " 'que',\n",
              " 'máquinas',\n",
              " 'compreendam',\n",
              " 'e',\n",
              " 'interpretem',\n",
              " 'a',\n",
              " 'linguagem',\n",
              " 'humana',\n",
              " ',',\n",
              " 'facilitando',\n",
              " 'a',\n",
              " 'extração',\n",
              " 'de',\n",
              " 'informações',\n",
              " 'valiosas',\n",
              " 'e',\n",
              " 'a',\n",
              " 'automação',\n",
              " 'de',\n",
              " 'tarefas',\n",
              " 'que',\n",
              " 'antes',\n",
              " 'exigiam',\n",
              " 'intervenção',\n",
              " 'humana',\n",
              " '.',\n",
              " 'técnicas',\n",
              " 'avançadas',\n",
              " 'de',\n",
              " 'pln',\n",
              " 'são',\n",
              " 'utilizadas',\n",
              " 'em',\n",
              " 'diversas',\n",
              " 'aplicações',\n",
              " ',',\n",
              " 'desde',\n",
              " 'assistentes',\n",
              " 'virtuais',\n",
              " 'até',\n",
              " 'sistemas',\n",
              " 'de',\n",
              " 'recomendação',\n",
              " ',',\n",
              " 'contribuindo',\n",
              " 'significativamente',\n",
              " 'para',\n",
              " 'a',\n",
              " 'eficiência',\n",
              " 'e',\n",
              " 'a',\n",
              " 'personalização',\n",
              " 'dos',\n",
              " 'serviços',\n",
              " 'oferecidos',\n",
              " '.',\n",
              " 'à',\n",
              " 'medida',\n",
              " 'que',\n",
              " 'o',\n",
              " 'campo',\n",
              " 'avança',\n",
              " ',',\n",
              " 'novas',\n",
              " 'metodologias',\n",
              " 'e',\n",
              " 'algoritmos',\n",
              " 'são',\n",
              " 'desenvolvidos',\n",
              " 'para',\n",
              " 'aprimorar',\n",
              " 'a',\n",
              " 'precisão',\n",
              " 'e',\n",
              " 'a',\n",
              " 'eficácia',\n",
              " 'do',\n",
              " 'pln',\n",
              " ',',\n",
              " 'tornando-o',\n",
              " 'uma',\n",
              " 'área',\n",
              " 'de',\n",
              " 'estudo',\n",
              " 'fascinante',\n",
              " 'e',\n",
              " 'em',\n",
              " 'constante',\n",
              " 'evolução',\n",
              " '.']"
            ]
          },
          "metadata": {},
          "execution_count": 42
        }
      ]
    },
    {
      "cell_type": "code",
      "source": [
        "# Removing stopwords and applying stemming:\n",
        "filtered_tokens = [stemmer.stem(word) for word in tokens if word.isalnum() and word not in stop_words]\n",
        "filtered_tokens"
      ],
      "metadata": {
        "colab": {
          "base_uri": "https://localhost:8080/",
          "height": 0
        },
        "id": "t2UKQwEQvvlr",
        "outputId": "7550399e-bfff-4471-d0c9-67011b747d49"
      },
      "execution_count": 43,
      "outputs": [
        {
          "output_type": "execute_result",
          "data": {
            "text/plain": [
              "['evoluç',\n",
              " 'contínu',\n",
              " 'tecnolog',\n",
              " 'process',\n",
              " 'lingu',\n",
              " 'natur',\n",
              " 'pln',\n",
              " 'ferrament',\n",
              " 'essenc',\n",
              " 'anális',\n",
              " 'grand',\n",
              " 'volum',\n",
              " 'dad',\n",
              " 'text',\n",
              " 'pln',\n",
              " 'permit',\n",
              " 'máquin',\n",
              " 'compreend',\n",
              " 'interpret',\n",
              " 'lingu',\n",
              " 'human',\n",
              " 'facilit',\n",
              " 'extr',\n",
              " 'inform',\n",
              " 'vali',\n",
              " 'autom',\n",
              " 'taref',\n",
              " 'ant',\n",
              " 'exig',\n",
              " 'intervenç',\n",
              " 'human',\n",
              " 'técn',\n",
              " 'avanç',\n",
              " 'pln',\n",
              " 'utiliz',\n",
              " 'divers',\n",
              " 'aplic',\n",
              " 'desd',\n",
              " 'assist',\n",
              " 'virtual',\n",
              " 'sistem',\n",
              " 'recomend',\n",
              " 'contribu',\n",
              " 'significativ',\n",
              " 'efici',\n",
              " 'person',\n",
              " 'serviç',\n",
              " 'oferec',\n",
              " 'med',\n",
              " 'camp',\n",
              " 'avanç',\n",
              " 'nov',\n",
              " 'metodolog',\n",
              " 'algoritm',\n",
              " 'desenvolv',\n",
              " 'aprimor',\n",
              " 'precis',\n",
              " 'eficác',\n",
              " 'pln',\n",
              " 'áre',\n",
              " 'estud',\n",
              " 'fascin',\n",
              " 'const',\n",
              " 'evoluç']"
            ]
          },
          "metadata": {},
          "execution_count": 43
        }
      ]
    },
    {
      "cell_type": "code",
      "source": [
        "# Doing Keyword Analysis and displaying the result:\n",
        "word_freq = Counter(filtered_tokens)\n",
        "print('Keyword Analysis:')\n",
        "for word, freq in word_freq.most_common(10):\n",
        "  print(f'{word}: {freq}')"
      ],
      "metadata": {
        "colab": {
          "base_uri": "https://localhost:8080/",
          "height": 0
        },
        "id": "t6yFly62wHlE",
        "outputId": "413e4ebb-41ce-4a12-fb47-cfbaa8e0f7d1"
      },
      "execution_count": 44,
      "outputs": [
        {
          "output_type": "stream",
          "name": "stdout",
          "text": [
            "Keyword Analysis:\n",
            "pln: 4\n",
            "evoluç: 2\n",
            "lingu: 2\n",
            "human: 2\n",
            "avanç: 2\n",
            "contínu: 1\n",
            "tecnolog: 1\n",
            "process: 1\n",
            "natur: 1\n",
            "ferrament: 1\n"
          ]
        }
      ]
    },
    {
      "cell_type": "code",
      "source": [
        "# Vectorial Representation of words:\n",
        "word2vec_model = Word2Vec([tokens], vector_size=50, window=5, min_count=1, workers=4)"
      ],
      "metadata": {
        "id": "KBP3u4tQwjQJ"
      },
      "execution_count": 45,
      "outputs": []
    },
    {
      "cell_type": "code",
      "source": [
        "# Printing vector for the word 'processamento':\n",
        "if 'processamento' in word2vec_model.wv:\n",
        "    print('Vetores com a palavra \"processamento\":', word2vec_model.wv['processamento'])\n",
        "else:\n",
        "  print('Palavra \"processamento\" não encontrada.')"
      ],
      "metadata": {
        "colab": {
          "base_uri": "https://localhost:8080/",
          "height": 0
        },
        "id": "qexca-xQwURi",
        "outputId": "d7aef786-d488-4913-9035-5f367bc11967"
      },
      "execution_count": 46,
      "outputs": [
        {
          "output_type": "stream",
          "name": "stdout",
          "text": [
            "Vetores com a palavra \"processamento\": [ 0.01944747 -0.01947304 -0.01303591  0.00558356  0.01286865 -0.01077524\n",
            "  0.00554188  0.01828957 -0.01363294 -0.0122151  -0.00992233 -0.00743657\n",
            "  0.00376029  0.01938679  0.01290663  0.00077553  0.004974    0.016903\n",
            "  0.01817626  0.01127101  0.01192382 -0.01520297 -0.00760086 -0.01135158\n",
            "  0.0123533  -0.00448011 -0.01755066  0.01526077  0.01679213 -0.00665551\n",
            "  0.01820821 -0.00158264 -0.00726396 -0.00079595  0.00034728 -0.00696141\n",
            "  0.00568742  0.01148119  0.01374258 -0.01774691 -0.00436593 -0.01097544\n",
            "  0.015074    0.01304207 -0.00862542  0.00464204 -0.01190239  0.0004309\n",
            "  0.01893706 -0.00518087]\n"
          ]
        }
      ]
    },
    {
      "cell_type": "code",
      "source": [
        "# Visualization - Bar Chart of Keyword Frequencies:\n",
        "plt.figure(figsize=(15, 5))\n",
        "most_common_words = word_freq.most_common(10)\n",
        "words, counts = zip(*most_common_words)\n",
        "plt.bar(words, counts, color='skyblue')\n",
        "plt.xlabel('Keywords')\n",
        "plt.ylabel('Frequency')\n",
        "plt.title('Palavras com maior frequência')\n",
        "plt.xticks(rotation=45)\n",
        "plt.show()"
      ],
      "metadata": {
        "colab": {
          "base_uri": "https://localhost:8080/",
          "height": 533
        },
        "id": "ApDy5WA7yvrg",
        "outputId": "87abd5cc-78cc-41c6-c943-adfb013b0e3f"
      },
      "execution_count": 47,
      "outputs": [
        {
          "output_type": "display_data",
          "data": {
            "text/plain": [
              "<Figure size 1500x500 with 1 Axes>"
            ],
            "image/png": "[encoded data removed]"
          },
          "metadata": {}
        }
      ]
    }
  ]
}