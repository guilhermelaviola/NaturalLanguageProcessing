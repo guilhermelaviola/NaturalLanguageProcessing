{
  "nbformat": 4,
  "nbformat_minor": 0,
  "metadata": {
    "colab": {
      "provenance": [],
      "authorship_tag": "ABX9TyOnqEDbXSFBtbIeD8jB7/c5",
      "include_colab_link": true
    },
    "kernelspec": {
      "name": "python3",
      "display_name": "Python 3"
    },
    "language_info": {
      "name": "python"
    }
  },
  "cells": [
    {
      "cell_type": "markdown",
      "metadata": {
        "id": "view-in-github",
        "colab_type": "text"
      },
      "source": [
        "<a href=\"https://colab.research.google.com/github/guilhermelaviola/NaturalLanguageProcessing/blob/main/Class06.ipynb\" target=\"_parent\"><img src=\"https://colab.research.google.com/assets/colab-badge.svg\" alt=\"Open In Colab\"/></a>"
      ]
    },
    {
      "cell_type": "markdown",
      "source": [
        "# **Information Recovery**"
      ],
      "metadata": {
        "id": "Q0Wt6JQ10V0e"
      }
    },
    {
      "cell_type": "code",
      "execution_count": 1,
      "metadata": {
        "colab": {
          "base_uri": "https://localhost:8080/"
        },
        "id": "mZkRkDKn0RDn",
        "outputId": "cf55275c-d508-4127-ecce-bdc267aaa6c7"
      },
      "outputs": [
        {
          "output_type": "stream",
          "name": "stdout",
          "text": [
            "Collecting wikipedia\n",
            "  Downloading wikipedia-1.4.0.tar.gz (27 kB)\n",
            "  Preparing metadata (setup.py) ... \u001b[?25l\u001b[?25hdone\n",
            "Requirement already satisfied: beautifulsoup4 in /usr/local/lib/python3.11/dist-packages (from wikipedia) (4.13.3)\n",
            "Requirement already satisfied: requests<3.0.0,>=2.0.0 in /usr/local/lib/python3.11/dist-packages (from wikipedia) (2.32.3)\n",
            "Requirement already satisfied: charset-normalizer<4,>=2 in /usr/local/lib/python3.11/dist-packages (from requests<3.0.0,>=2.0.0->wikipedia) (3.4.1)\n",
            "Requirement already satisfied: idna<4,>=2.5 in /usr/local/lib/python3.11/dist-packages (from requests<3.0.0,>=2.0.0->wikipedia) (3.10)\n",
            "Requirement already satisfied: urllib3<3,>=1.21.1 in /usr/local/lib/python3.11/dist-packages (from requests<3.0.0,>=2.0.0->wikipedia) (2.3.0)\n",
            "Requirement already satisfied: certifi>=2017.4.17 in /usr/local/lib/python3.11/dist-packages (from requests<3.0.0,>=2.0.0->wikipedia) (2025.1.31)\n",
            "Requirement already satisfied: soupsieve>1.2 in /usr/local/lib/python3.11/dist-packages (from beautifulsoup4->wikipedia) (2.6)\n",
            "Requirement already satisfied: typing-extensions>=4.0.0 in /usr/local/lib/python3.11/dist-packages (from beautifulsoup4->wikipedia) (4.12.2)\n",
            "Building wheels for collected packages: wikipedia\n",
            "  Building wheel for wikipedia (setup.py) ... \u001b[?25l\u001b[?25hdone\n",
            "  Created wheel for wikipedia: filename=wikipedia-1.4.0-py3-none-any.whl size=11679 sha256=8ce7e7bfd96aede4b7117229c2cc97cf3392c8e2722e6ebb2863c4781650573d\n",
            "  Stored in directory: /root/.cache/pip/wheels/8f/ab/cb/45ccc40522d3a1c41e1d2ad53b8f33a62f394011ec38cd71c6\n",
            "Successfully built wikipedia\n",
            "Installing collected packages: wikipedia\n",
            "Successfully installed wikipedia-1.4.0\n"
          ]
        }
      ],
      "source": [
        "! pip3 install wikipedia"
      ]
    },
    {
      "cell_type": "code",
      "source": [
        "import wikipedia\n",
        "wikipedia.set_lang('en')"
      ],
      "metadata": {
        "id": "rLUI7JcX0cKk"
      },
      "execution_count": 2,
      "outputs": []
    },
    {
      "cell_type": "code",
      "source": [
        "wikipedia.search('North America')\n",
        "wikipedia.search('Central America')\n",
        "wikipedia.search('South America')\n",
        "wikipedia.search('Europe')\n",
        "wikipedia.search('Asia')\n",
        "wikipedia.search('Africa')\n",
        "wikipedia.search('Oceania')"
      ],
      "metadata": {
        "colab": {
          "base_uri": "https://localhost:8080/"
        },
        "id": "-vxxL0Sc0hCc",
        "outputId": "e5beba6f-77b3-46f3-c49b-4c8f34758864"
      },
      "execution_count": 3,
      "outputs": [
        {
          "output_type": "execute_result",
          "data": {
            "text/plain": [
              "['Oceania',\n",
              " 'List of islands in the Pacific Ocean',\n",
              " 'List of sovereign states and dependent territories in Oceania',\n",
              " 'Political geography of Nineteen Eighty-Four',\n",
              " 'Oceania (disambiguation)',\n",
              " '2025 Formula Regional Oceania Championship',\n",
              " 'Oceania Cruises',\n",
              " 'Australia (continent)',\n",
              " '2025 Oceania Badminton Championships',\n",
              " 'Women in Oceania']"
            ]
          },
          "metadata": {},
          "execution_count": 3
        }
      ]
    },
    {
      "cell_type": "code",
      "source": [
        "documents = {}\n",
        "for continent in ['North America', 'Central America', 'South America', 'Europe', 'Asia', 'Africa', 'Oceania']:\n",
        "  for page in wikipedia.search(continent):\n",
        "    # Check if the page title is valid before attempting to retrieve content\n",
        "    try:\n",
        "      documents[page] = {\n",
        "          'title': page,\n",
        "          'content': wikipedia.page(page).content\n",
        "      }\n",
        "    except wikipedia.exceptions.PageError:\n",
        "      print(f\"Skipping page '{page}' due to PageError.\")\n",
        "    except wikipedia.exceptions.DisambiguationError as e:\n",
        "        print(f\"Skipping page '{page}' due to DisambiguationError: {e}\")"
      ],
      "metadata": {
        "colab": {
          "base_uri": "https://localhost:8080/"
        },
        "id": "djNeHW980c2x",
        "outputId": "8e35a64c-d75c-453f-ee21-ca820f61f762"
      },
      "execution_count": 4,
      "outputs": [
        {
          "output_type": "stream",
          "name": "stdout",
          "text": [
            "Skipping page 'North America' due to PageError.\n",
            "Skipping page 'Northern America' due to PageError.\n",
            "Skipping page 'British North America Acts' due to PageError.\n",
            "Skipping page 'North America' due to PageError.\n"
          ]
        },
        {
          "output_type": "stream",
          "name": "stderr",
          "text": [
            "/usr/local/lib/python3.11/dist-packages/wikipedia/wikipedia.py:389: GuessedAtParserWarning: No parser was explicitly specified, so I'm using the best available HTML parser for this system (\"lxml\"). This usually isn't a problem, but if you run this code on another system, or in a different virtual environment, it may use a different parser and behave differently.\n",
            "\n",
            "The code that caused this warning is on line 389 of the file /usr/local/lib/python3.11/dist-packages/wikipedia/wikipedia.py. To get rid of this warning, pass the additional argument 'features=\"lxml\"' to the BeautifulSoup constructor.\n",
            "\n",
            "  lis = BeautifulSoup(html).find_all('li')\n"
          ]
        },
        {
          "output_type": "stream",
          "name": "stdout",
          "text": [
            "Skipping page 'European' due to DisambiguationError: \"European\" may refer to: \n",
            "Europe\n",
            "Ethnic groups in Europe\n",
            "Demographics of Europe\n",
            "European cuisine\n",
            "European Union\n",
            "European Union citizenship\n",
            "Demographics of the European Union\n",
            "The European (1953 magazine)\n",
            "The European (newspaper)\n",
            "The European (2009 magazine)\n",
            "The European Magazine\n",
            "The New European\n",
            "SS European\n",
            "Europeans (band)\n",
            "All pages with titles containing European\n",
            "All pages with titles beginning with European\n",
            "Europe (disambiguation)\n",
            "The Europeans (disambiguation)\n",
            "Transeuropean (disambiguation)\n",
            "Pan-European (disambiguation)\n",
            "All pages with titles containing Europaea\n",
            "All pages with titles containing Europaeus\n",
            "All pages with titles containing Europaeum\n",
            "European African\n",
            "White people\n",
            "Skipping page 'Asia' due to PageError.\n",
            "Skipping page 'Southeast Asia' due to PageError.\n",
            "Skipping page 'South Asia' due to PageError.\n",
            "Skipping page 'Central Asia' due to PageError.\n",
            "Skipping page '.asia' due to DisambiguationError: \"as\" may refer to: \n",
            "A. S. Byatt\n",
            "Adult Swim\n",
            "Akademiska Sångföreningen\n",
            "As (newspaper)\n",
            "\"As\" (song)\n",
            "Adolf Dygasiński\n",
            "As the Dog\n",
            "Akciová společnost\n",
            "Akciová spoločnosť\n",
            "Aktieselskab\n",
            "Aksjeselskap\n",
            "A.S. Roma\n",
            "Alaska Airlines\n",
            "Armée secrète (Belgium)\n",
            "KK AS Basket\n",
            "Armée secrète\n",
            "Athletics (baseball)\n",
            "Australian Standards\n",
            "Voiturettes Automobiles A.S.\n",
            "AS Type A2\n",
            "Towarzystwo Budowy Samochodów AS\n",
            "AS S1 and AS S2\n",
            "Academia Sinica\n",
            "AS-level (disambiguation)\n",
            "Associate of Science\n",
            "As language\n",
            "Assamese language\n",
            "As (cuneiform)\n",
            "Aš (cuneiform)\n",
            "as (Unix)\n",
            ".as\n",
            "ActionScript\n",
            "Autonomous system (Internet)\n",
            "Application server\n",
            "type conversion\n",
            "Angelman syndrome\n",
            "Ankylosing spondylitis\n",
            "Aortic stenosis\n",
            "Asparagine synthase (glutamine-hydrolysing)\n",
            "Asperger syndrome\n",
            "Auricular splint\n",
            "arcminute\n",
            "Attosecond\n",
            "Attosiemens\n",
            "Abramowitz and Stegun\n",
            "Aggregate supply\n",
            "Almost surely\n",
            "Arsenic\n",
            "Cerylonidae\n",
            "Tropical savanna climate\n",
            "Aš\n",
            "Ås, Akershus\n",
            "As, Belgium\n",
            "Ås, Sør-Trøndelag\n",
            "Harju\n",
            "As, Ukraine\n",
            "As-e Jadid\n",
            "As-e Qadim\n",
            "American Samoa\n",
            ".as\n",
            "Australia\n",
            "Assam\n",
            "Æsir\n",
            "Peace be upon him\n",
            "As (Roman coin)\n",
            "Society for Creative Anachronism\n",
            "Anti-submarine warfare\n",
            "Ossetians\n",
            "Submarine tender (AS)\n",
            "Altostratus\n",
            "United States\n",
            "Aas (surname)\n",
            "All pages with titles beginning with As \n",
            "All pages with titles containing As\n",
            "Skipping page 'Asia Argento' due to PageError.\n",
            "Skipping page 'East Asia' due to PageError.\n",
            "Skipping page 'Asia Cup' due to PageError.\n",
            "Skipping page 'African' due to DisambiguationError: \"american\" may refer to: \n",
            "United States\n",
            "Americans\n",
            "American ancestry\n",
            "American English\n",
            "Native Americans in the United States\n",
            "Americas\n",
            "Indigenous peoples of the Americas\n",
            "American (word)\n",
            "American Airlines\n",
            "American Athletic Conference\n",
            "American Recordings (record label)\n",
            "American University\n",
            "Baltimore Americans\n",
            "Chicago Americans\n",
            "Dallas Americans\n",
            "Hartford Americans\n",
            "Miami Americans\n",
            "New Jersey Americans (soccer)\n",
            "New York Americans (soccer)\n",
            "Uhrik Truckers\n",
            "Allen Americans\n",
            "New York Americans\n",
            "Rochester Americans\n",
            "Seattle Totems\n",
            "Tri-City Americans\n",
            "Boston Red Sox\n",
            "Nashville Americans\n",
            "American League\n",
            "American Association (disambiguation)\n",
            "Brooklyn Nets\n",
            "Oakland Oaks (ABA)\n",
            "Pittsburgh Americans\n",
            "New York Yankees (1940 AFL)\n",
            "American (1899 automobile)\n",
            "American (1902 automobile)\n",
            "American (1911 automobile)\n",
            "American (1914 automobile)\n",
            "American (1917 automobile)\n",
            "American Motors Corporation\n",
            "Rambler American\n",
            "USS American\n",
            "4-4-0\n",
            "American (album)\n",
            "Fish Karma\n",
            "\"American\" (Lana Del Rey song)\n",
            "AmericanEP\n",
            "American Quartet (Dvořák)\n",
            "American Canyon\n",
            "American Falls (disambiguation)\n",
            "American River (disambiguation)\n",
            "American Township, Ohio\n",
            "American cheese\n",
            "American McGee\n",
            "American (RuPaul's Drag Race)\n",
            "All pages with titles beginning with American \n",
            "All pages with titles containing American\n",
            "America (disambiguation)\n",
            "Americana (disambiguation)\n",
            "Armorican (disambiguation)\n",
            "The American (disambiguation)\n",
            "The Americans (disambiguation)\n",
            "List of automobile manufacturers of the United States\n",
            "American Made (disambiguation)\n",
            "Pan-American (disambiguation)\n",
            "Anti-American\n",
            "Skipping page 'Africa (disambiguation)' due to DisambiguationError: \"Africa (disambiguation)\" may refer to: \n",
            "Africa (1930 film)\n",
            "África (film)\n",
            "Africa (2011 film)\n",
            "Africa (2019 film)\n",
            "Africa (1984 TV series)\n",
            "Africa (2013 TV series)\n",
            "Series A\n",
            "\"Africa\" (William Billings)\n",
            "Africa\n",
            "Africa (Still)\n",
            "Africa (Miriam Makeba album)\n",
            "Africa (Perpetuum Jazzile album)\n",
            "Africa (Pharoah Sanders album)\n",
            "\"Africa\" (Toto song)\n",
            "Africa (Weezer cover)\n",
            "\"Africa\" (Karl Wolf song)\n",
            "\"Africa\" (Rose Laurens song)\n",
            "Voodoo\n",
            "Euro IV Ever\n",
            "Voices\n",
            "Round Trip\n",
            "Rejuvenation\n",
            "Hollywood (Africa)\n",
            "Mama Africa\n",
            "L'Été indien (Africa)\n",
            "\"Africa\" (Lost Fields song)\n",
            "Africa (Petrarch)\n",
            "Africa (journal)\n",
            "Africa\n",
            "Africa (Roman province)\n",
            "Kingdom of Africa\n",
            "Africa, Indiana\n",
            "Africa, Ohio\n",
            "Africa (goddess)\n",
            "Africa (surname)\n",
            "1193 Africa\n",
            "Honda Africa Twin\n",
            "HMS Africa\n",
            "Africa Safari Adventure Park\n",
            "All pages with titles beginning with Africa\n",
            "All pages with titles containing Africa\n",
            "Afrika (disambiguation)\n",
            "Africa '70 (disambiguation)\n",
            "Africa U.S.A. (disambiguation)\n",
            "African (disambiguation)\n",
            "African Union\n",
            "Africatown\n",
            "Ifriqiya\n",
            "Republic of New Afrika\n",
            "Scipio Africanus (disambiguation)\n",
            "The Americas\n",
            "Skipping page 'Africa Addio' due to PageError.\n",
            "Skipping page 'History of Africa' due to PageError.\n",
            "Skipping page 'Oceania' due to DisambiguationError: \"oceanic\" may refer to: \n",
            "ocean\n",
            "Oceania\n",
            "Oceanic climate\n",
            "Oceanic languages\n",
            "Pacific Islander\n",
            "Oceanic, British Columbia\n",
            "Oceanic, New Jersey\n",
            "RMS Oceanic (1870)\n",
            "Oceanic-class ocean liner\n",
            "RMS Oceanic (1899)\n",
            "Oceanic (unfinished ship)\n",
            "SS Oceanic (1950)\n",
            "SS Oceanic (1965)\n",
            "Oceanic Airlines\n",
            "Oceanic Flight 815\n",
            "\"Oceanic\" (novella)\n",
            "Oceanic (band)\n",
            "Oceanic (Isis album)\n",
            "Oceanic (Vangelis album)\n",
            "Emil Bulls\n",
            "Sunleif Rasmussen\n",
            "Oceanic Bank\n",
            "Oceanic Time Warner Cable\n",
            "Oceanic Worldwide\n",
            "Oceanic feeling\n",
            "Rimouski Oceanic\n",
            "Ocean (disambiguation)\n",
            "Oceania (disambiguation)\n",
            "Oceanus (disambiguation)\n",
            "Skipping page 'Oceania (disambiguation)' due to DisambiguationError: \"Oceania (disambiguation)\" may refer to: \n",
            "Oceania (Nineteen Eighty-Four)\n",
            "Front Mission\n",
            "Moana\n",
            "Oceania (Goanna album)\n",
            "Oceania (Oceania album)\n",
            "Oceania (The Smashing Pumpkins album)\n",
            "Gowan\n",
            "Quartet\n",
            "\"Oceania\" (song)\n",
            "List of ships named Oceania\n",
            "Oceania Cruises\n",
            "Oceania (footballer)\n",
            "Oceania (board game)\n",
            "Oceania (journal)\n",
            "Oceanía metro station\n",
            "Deportivo Oceanía metro station\n",
            "French Oceania\n",
            "Outlying Oceania\n",
            "Oceania (hydrozoan)\n",
            "All pages with titles containing Oceania\n",
            "All pages with titles beginning with Oceania\n",
            "Oceana (disambiguation)\n",
            "Ocean (disambiguation)\n",
            "Oceanic (disambiguation)\n",
            "Australia (disambiguation)\n",
            "Skipping page 'Oceania Cruises' due to PageError.\n"
          ]
        }
      ]
    },
    {
      "cell_type": "code",
      "source": [
        "len(documents)"
      ],
      "metadata": {
        "colab": {
          "base_uri": "https://localhost:8080/"
        },
        "id": "fv6Ik-lq1aYG",
        "outputId": "131008a2-e427-426e-874f-dfe14aeb00b6"
      },
      "execution_count": 5,
      "outputs": [
        {
          "output_type": "execute_result",
          "data": {
            "text/plain": [
              "48"
            ]
          },
          "metadata": {},
          "execution_count": 5
        }
      ]
    },
    {
      "cell_type": "code",
      "source": [
        "print(documents['South America'])"
      ],
      "metadata": {
        "colab": {
          "base_uri": "https://localhost:8080/"
        },
        "id": "SPQPK2pf1bfC",
        "outputId": "63488b96-50c8-437c-aeaf-67e1e45a507d"
      },
      "execution_count": 6,
      "outputs": [
        {
          "output_type": "stream",
          "name": "stdout",
          "text": [
            "{'title': 'South America', 'content': 'North America is a continent in the Northern and Western Hemispheres. North America is bordered to the north by the Arctic Ocean, to the east by the Atlantic Ocean, to the southeast by South America and the Caribbean Sea, and to the west and south by the Pacific Ocean. The region includes the Bahamas, Bermuda, Canada, the Caribbean, Central America, Clipperton Island, Greenland, Mexico, Saint Pierre and Miquelon, the Turks and Caicos Islands, and the United States.\\nNorth America covers an area of about 24,709,000 square kilometers (9,540,000 square miles), representing approximately 16.5% of the Earth\\'s land area and 4.8% of its total surface area. It is the third-largest continent by size after Asia and Africa, and the fourth-largest continent by population after Asia, Africa, and Europe. As of 2021, North America\\'s population was estimated as over 592 million people in 23 independent states, or about 7.5% of the world\\'s population. In human geography, the terms \"North America\" and \"North American\" can refer to Canada, the United States, Mexico, and Greenland or, alternatively, Canada, Greenland and the US (Mexico being classified as part of Latin America) or simply Canada and the US (Greenland being classified as either Arctic or European (due to its political status as a part of Denmark) and Mexico classified as Latin American).\\nIt is unknown with certainty how and when first human populations first reached North America. People were known to live in the Americas at least 20,000 years ago, but various evidence points to possibly earlier dates. The Paleo-Indian period in North America followed the Last Glacial Period, and lasted until about 10,000 years ago when the Archaic period began. The classic stage followed the Archaic period, and lasted from approximately the 6th to 13th centuries. Beginning in 1000 AD, the Norse were the first Europeans to begin exploring and ultimately colonizing areas of North America.\\nIn 1492, the exploratory voyages of Christopher Columbus led to a transatlantic exchange, including migrations of European settlers during the Age of Discovery and the early modern period. Present-day cultural and ethnic patterns reflect interactions between European colonists, indigenous peoples, enslaved Africans, immigrants from Europe, Asia, and descendants of these respective groups.\\nEurope\\'s colonization in North America led to most North Americans speaking European languages, such as English, Spanish, and French, and the cultures of the region commonly reflect Western traditions. However, relatively small parts of North America in Canada, the United States, Mexico, and Central America have indigenous populations that continue adhering to their respective pre-European colonial cultural and linguistic traditions.\\n\\n\\n== Name ==\\n\\nThe Americas were named after the Italian explorer Amerigo Vespucci by German cartographers Martin Waldseemüller and Matthias Ringmann. Vespucci explored South America between 1497 and 1502, and was the first European to suggest that the Americas represented a landmass then unknown to the Europeans. In 1507, Waldseemüller published a world map, and placed the word \"America\" on the continent of present-day South America. The continent north of present-day Mexico was then referred to as Parias. On a 1553 world map published by Petrus Apianus, North America was called \"Baccalearum\", meaning \"realm of the Cod fish\", in reference to the abundance of cod on the East Coast.\\nWaldseemüller used the Latinized version of Vespucci\\'s name, Americus Vespucius, in its feminine form of \"America\", following the examples of \"Europa\", \"Asia\", and \"Africa\". Americus originated from Medieval Latin Emericus (see Saint Emeric of Hungary), coming from the Old High German name Emmerich. Map makers later extended the name America to North America.\\nIn 1538, Gerardus Mercator used the term America on his world map of the entire Western Hemisphere. On his subsequent 1569 map, Mercator called North America \"America or New India\" (America sive India Nova).\\nThe Spanish Empire called its territories in North and South America \"Las Indias\", and the name given to the state body that oversaw the region was called the Council of the Indies.\\n\\n\\n== Definitions ==\\n\\nThe United Nations and its statistics division recognize North America as including three regions: Northern America, Central America, and the Caribbean. \"Northern America\" is a term distinct from \"North America\", excluding Central America, which itself may or may not include Mexico. In the limited context of regional trade agreements, the term is used to reference three nations: Canada, the United States, and Mexico.\\nFrance, Italy, Portugal, Spain, Romania, Greece, and the countries of Latin America use a six-continent model, with the Americas viewed as a single continent and North America designating a subcontinent comprising Canada, the United States, Mexico, and Saint Pierre and Miquelon (politically part of France), and often Greenland and Bermuda.\\nNorth America has historically been known by other names, including Spanish North America, New Spain, and América Septentrional, the first official name given to Mexico.\\n\\n\\n=== Regions ===\\n\\nNorth America includes several regions and subregions, each of which have their own respective cultural, economic, and geographic regions. Economic regions include several regions formalized in 20th- and 21st-century trade agreements, including NAFTA between Canada, Mexico, and the United States, and CAFTA between Central America, the Dominican Republic, and the United States.\\nNorth America is divided linguistically and culturally into two primary regions, Anglo-America and Latin America. Anglo-America includes most of North America, Belize, and Caribbean islands with English-speaking populations. There are also regions, including Louisiana and Quebec, with large Francophone populations; in Quebec, French is the official language..\\nThe southern portion of North America includes Central America and non-English-speaking Caribbean nations. The north of the continent maintains recognized regions as well. In contrast to the common definition of North America, which encompasses the whole North American continent, the term \"North America\" is sometimes used more narrowly to refer only to four nations, Canada, Greenland, Mexico, and the U.S. The U.S. Census Bureau includes Saint Pierre and Miquelon, but excludes Mexico from its definition.\\nThe term Northern America refers to the northernmost countries and territories of North America: the U.S., Bermuda, Canada, Greenland, and St. Pierre and Miquelon. Although the term does not refer to a unified region, Middle America includes Mexico, Central America, and the Caribbean.\\nNorth America\\'s largest countries by land area are Canada and the U.S., both of which have well-defined and recognized subregions. In Canada, these include (from east to west) Atlantic Canada, Central Canada, the Canadian Prairies, the British Columbia Coast, Western Canada, and Northern Canada. In the U.S., they include New England, the Mid-Atlantic, and the South Atlantic, East North Central, West North Central, East South Central, West South Central, Mountain, and Pacific states. The Great Lakes region and the Pacific Northwest include areas in both the U.S. and Canada.\\n\\n\\n=== Countries, dependencies, and other territories ===\\n\\n\\n== Geography ==\\n\\nNorth America occupies the northern portion of the landmass generally referred to as the New World, the Western Hemisphere, the Americas, or simply America, which, in many countries, is considered a single continent with North America a subcontinent. North America is the third-largest continent by area after Asia and Africa.\\nNorth America\\'s only land connection to South America is in present-day Panama at the Darien Gap on the Colombia–Panama border, placing almost all of Panama within North America. Alternatively, some geologists physiographically locate its southern limit at the Isthmus of Tehuantepec, Mexico, with Central America extending southeastward to South America from this point. The Caribbean islands, or West Indies, are considered part of North America. The continental coastline is long and irregular. The Gulf of Mexico is the largest body of water indenting the continent, followed by Hudson Bay. Others include the Gulf of Saint Lawrence and the Gulf of California.\\nBefore the Central American isthmus formed, the region had been underwater. The islands of the West Indies delineate a submerged former land bridge, which had connected North and South America via what are now Florida and Venezuela.\\nThere are several islands off the continent\\'s coasts; principally, the Arctic Archipelago, the Bahamas, Turks and Caicos, the Greater and Lesser Antilles, the Aleutian Islands (some of which are in the Eastern Hemisphere proper), the Alexander Archipelago, the many thousand islands of the British Columbia Coast, and Newfoundland. Greenland, a self-governing Danish island, and the world\\'s largest, is on the same tectonic plate (the North American Plate) and is part of North America geographically. In a geologic sense, Bermuda is not part of the Americas, but an oceanic island that was formed on the fissure of the Mid-Atlantic Ridge over 100 million years ago (mya). The nearest landmass to it is Cape Hatteras, North Carolina. However, Bermuda is often thought of as part of North America, especially given its historical, political and cultural ties to Virginia and other parts of the continent.\\nThe vast majority of North America is on the North American Plate. Parts of western Mexico, including Baja California, and of California, including the cities of San Diego, Los Angeles, and Santa Cruz, lie on the eastern edge of the Pacific Plate, with the two plates meeting along the San Andreas Fault. The southernmost portion of the continent and much of the West Indies lie on the Caribbean Plate, whereas the Juan de Fuca Plate and Cocos Plate border the North American Plate on its western frontier.\\nThe continent can be divided into four great regions (each of which contains many subregions): the Great Plains stretching from the Gulf of Mexico to the Canadian Arctic; the geologically young, mountainous west, including the Rocky Mountains, the Great Basin, California, and Alaska; the raised but relatively flat plateau of the Canadian Shield in the northeast; and the varied eastern region, which includes the Appalachian Mountains, the coastal plain along the Atlantic seaboard, and the Florida peninsula. Mexico, with its long plateaus and cordilleras, falls largely in the western region, although the eastern coastal plain does extend south along the Gulf.\\nThe western mountains are split in the middle into the main range of the Rockies and the coast ranges in California, Oregon, Washington, and British Columbia, with the Great Basin—a lower area containing smaller ranges and low-lying deserts—in between. The highest peak is Denali in Alaska.\\nThe U.S. Geographical Survey (USGS) states that the geographic center of North America is \"6 miles [10 km] west of Balta, Pierce County, North Dakota\" at about 48°10′N 100°10′W, about 24 kilometers (15 mi) from Rugby, North Dakota. The USGS further states that \"No marked or monumented point has been established by any government agency as the geographic center of either the 50 states, the conterminous United States, or the North American continent.\" Nonetheless, there is a 4.6-meter (15 ft) field stone obelisk in Rugby claiming to mark the center. The North American continental pole of inaccessibility is located 1,650 km (1,030 mi) from the nearest coastline, between Allen and Kyle, South Dakota at 43.36°N 101.97°W\\ufeff / 43.36; -101.97\\ufeff (Pole of Inaccessibility North America).\\n\\n\\n=== Canada ===\\n\\nCanada can be divided into roughly seven physiographic divisions:\\n\\nThe Canadian Shield\\nThe interior plains\\nThe Great Lakes-St. Lawrence Lowlands\\nThe Appalachian region\\nThe Western Cordillera\\nHudson Bay Lowlands\\nArctic Archipelago\\n\\n\\n=== United States ===\\n\\nThe lower 48 U.S. states can be divided into roughly eight physiographic divisions:\\n\\nThe Intermontane Plateaus\\nThe Laurentian Upland, part of the Canadian Shield Northern portion of the upper midwestern U.S.\\nThe Interior Plains\\nThe Atlantic Plain\\nThe Appalachian highlands\\nThe Interior highlands\\nThe Rocky Mountain system\\nThe Pacific Mountain system\\n\\n\\n=== Mexico ===\\n\\nMexico can be divided into roughly fifteen physiographic divisions:\\n\\nThe Baja California Peninsula\\nThe Sonoran Basin and Range\\nThe Western Sierra Madre\\nThe Northern Mountains and Plains\\nThe Eastern Sierra Madre\\nThe Great Plain\\nThe Pacific Coastal Plain\\nThe Northern Gulf Coast Plain\\nThe Central Plateau\\nThe Volcanic Axis\\nThe Southern Sierra Madre\\nThe Southern Gulf Coast Plain\\nThe Chiapas Sierra Madre\\nThe Chiapas Highlands\\nThe Yucatán Peninsula\\n\\n\\n=== Climate ===\\n\\nNorth America is a very large continent that extends from north of the Arctic Circle to south of the Tropic of Cancer. Greenland, along with the Canadian Shield, is tundra with average temperatures ranging from 10 to 20 °C (50 to 68 °F), but central Greenland is composed of a very large ice sheet. This tundra radiates throughout Canada, but its border ends near the Rocky Mountains (but still contains Alaska) and at the end of the Canadian Shield, near the Great Lakes.\\nClimate west of the Cascade Range is described as being temperate weather with average precipitation 20 inches (510 millimeters).\\nClimate in coastal California is described to be Mediterranean, with average temperatures in cities like San Francisco ranging from 57 to 70 °F (14 to 21 °C) over the course of the year.\\nStretching from the East Coast to eastern North Dakota, and stretching down to Kansas, is the humid continental climate featuring intense seasons, with a large amount of annual precipitation, with places like New York City averaging 50 in (1,300 mm).\\nStarting at the southern border of the humid continental climate and stretching to the Gulf of Mexico (while encompassing the eastern half of Texas) is the humid subtropical climate. This area has the wettest cities in the contiguous U.S., with annual precipitation reaching 67 in (1,700 mm) in Mobile, Alabama.\\nStretching from the borders of the humid continental and subtropical climates, and going west to the Sierra Nevada, south to the southern tip of Durango, north to the border with tundra climate, the steppe/desert climates are the driest in the U.S. Highland climates cut from north to south of the continent, where subtropical or temperate climates occur just below the tropics, as in central Mexico and Guatemala. Tropical climates appear in the island regions and in the subcontinent\\'s bottleneck, found in countries and states bathed by the Caribbean Sea or to the south of the Gulf of Mexico and the Pacific Ocean. Precipitation patterns vary across the region, and as such rainforest, monsoon, and savanna types can be found, with rains and high temperatures throughout the year.\\n\\n\\n=== Ecology ===\\n\\nNotable North American fauna include the bison, black bear, jaguar, cougar, prairie dog, turkey, pronghorn, raccoon, coyote, and monarch butterfly. Notable plants that were domesticated in North America include tobacco, maize, squash, tomato, sunflower, blueberry, avocado, cotton, chile pepper, and vanilla.\\n\\n\\n== Geology ==\\n\\n\\n=== Geologic history ===\\nLaurentia is an ancient craton which forms the geologic core of North America; it formed between 1.5 and 1.0 billion years ago during the Proterozoic eon. The Canadian Shield is the largest exposure of this craton. From the Late Paleozoic to Early Mesozoic eras, North America was joined with the other modern-day continents as part of the supercontinent Pangaea, with Eurasia to its east. One of the results of the formation of Pangaea was the Appalachian Mountains, which formed some 480 mya, making it among the oldest mountain ranges in the world. When Pangaea began to rift around 200 mya, North America became part of Laurasia, before it separated from Eurasia as its own continent during the mid-Cretaceous period. The Rockies and other western mountain ranges began forming around this time from a period of mountain building called the Laramide orogeny, between 80 and 55 mya. The formation of the Isthmus of Panama that connected the continent to South America arguably occurred approximately 12 to 15 mya, and the Great Lakes (as well as many other northern freshwater lakes and rivers) were carved by receding glaciers about 10,000 years ago.\\nNorth America is the source of much of what humanity knows about geologic time periods. The geographic area that would later become the United States has been the source of more varieties of dinosaurs than any other modern country. According to paleontologist Peter Dodson, this is primarily due to stratigraphy, climate and geography, human resources, and history. Much of the Mesozoic Era is represented by exposed outcrops in the many arid regions of the continent. The most significant Late Jurassic dinosaur-bearing fossil deposit in North America is the Morrison Formation of the western U.S.\\n\\n\\n=== Canada ===\\n\\nCanada is geologically one of the oldest regions in the world, with more than half of the region consisting of Precambrian rocks that have been above sea level since the beginning of the Palaeozoic era. Canada\\'s mineral resources are diverse and extensive. Across the Canadian Shield and in the north there are large iron, nickel, zinc, copper, gold, lead, molybdenum, and uranium reserves. Large diamond concentrations have been recently developed in the Arctic, making Canada one of the world\\'s largest producers. Throughout the Shield, there are many mining towns extracting these minerals. The largest, and best known, is Sudbury, Ontario. Sudbury is an exception to the normal process of forming minerals in the Shield since there is significant evidence that the Sudbury Basin is an ancient meteorite impact crater. The nearby, but less-known Temagami Magnetic Anomaly has striking similarities to the Sudbury Basin. Its magnetic anomalies are very similar to the Sudbury Basin, and so it could be a second metal-rich impact crater. The Shield is also covered by vast boreal forests that support an important logging industry.\\n\\n\\n=== United States ===\\n\\nThe United States can be divided into twelve main geological provinces:\\n\\nPacific\\nColumbia Plateau\\nBasin and Range\\nColorado Plateau\\nRocky Mountains\\nLaurentian Upland\\nInterior Plains\\nInterior Highlands\\nAppalachian Highlands\\nAtlantic Plain\\nAlaskan\\nHawaiian\\nEach province has its own geologic history and unique features. The geology of Alaska is typical of that of the cordillera, while the major islands of Hawaii consist of Neogene volcanics erupted over a hot spot.\\n\\n\\n=== Central America ===\\n\\nCentral America is geologically active with volcanic eruptions and earthquakes occurring from time to time. In 1976 Guatemala was hit by a major earthquake, killing 23,000 people; Managua, the capital of Nicaragua, was devastated by earthquakes in 1931 and 1972, the last one killing about 5,000 people; three earthquakes devastated El Salvador, one in 1986 and two in 2001; one earthquake devastated northern and central Costa Rica in 2009, killing at least 34 people; in Honduras a powerful earthquake killed seven people in 2009.\\nVolcanic eruptions are common in the region. In 1968, the Arenal Volcano, in Costa Rica, erupted and killed 87 people. Fertile soils from weathered volcanic lavas have made it possible to sustain dense populations in agriculturally productive highland areas.\\nCentral America has many mountain ranges; the longest are the Sierra Madre de Chiapas, the Cordillera Isabelia, and the Cordillera de Talamanca. Between the mountain ranges lie fertile valleys that are suitable for the people; in fact, most of the population of Honduras, Costa Rica, and Guatemala live in valleys. Valleys are also suitable for the production of coffee, beans, and other crops.\\n\\n\\n== History ==\\n\\n\\n=== Pre-Columbian era ===\\n\\nThe indigenous peoples of the Americas have many creation myths, based on which they assert that they have been present on the land since its creation, but there is no evidence that humans evolved there. The specifics of the initial settlement of the Americas by ancient Asians are subject to ongoing research and discussion. The traditional theory has been that hunters entered the Bering Land Bridge between eastern Siberia and present-day Alaska from 27,000 to 14,000 years ago. A growing viewpoint is that the first American inhabitants sailed from Beringia some 13,000 years ago, with widespread habitation of the Americas during the end of the Last Glacial Period, in what is known as the Late Glacial Maximum, around 12,500 years ago. The oldest petroglyphs in North America date from 15,000 to 10,000 years before present. Genetic research and anthropology indicate additional waves of migration from Asia via the Bering Strait during the Early-Middle Holocene.\\nPrior to the arrival of European explorers and colonists in North America, the natives of North America were divided into many different polities, ranging from small bands of a few families to large empires. They lived in several culture areas, which roughly correspond to geographic and biological zones that defined the representative cultures and lifestyles of the indigenous people who lived there, including the bison hunters of the Great Plains and the farmers of Mesoamerica. Native groups also are classified by their language families, which included Athabaskan and Uto-Aztecan languages. Indigenous peoples with similar languages did not always share the same material culture, however, and were not necessarily always allies. Anthropologists speculate that the Inuit of the high Arctic arrived in North America much later than other native groups, evidenced by the disappearance of Dorset culture artifacts from the archaeological record and their replacement by the Thule people.\\nDuring the thousands of years of native habitation on the continent, cultures changed and shifted. One of the oldest yet discovered is the Clovis culture (c. 9550–9050 BCE) in modern New Mexico. Later groups include the Mississippian culture and related Mound building cultures, found in the Mississippi River valley and the Pueblo culture of what is now the Four Corners. The more southern cultural groups of North America were responsible for the domestication of many common crops now used around the world, such as tomatoes, squash, and maize. As a result of the development of agriculture in the south, many other cultural advances were made there. The Mayans developed a writing system, built huge pyramids and temples, had a complex calendar, and developed the concept of zero around 400 CE.\\nThe first recorded European references to North America are in Norse sagas where it is referred to as Vinland. The earliest verifiable instance of pre-Columbian trans-oceanic contact by any European culture with the North America mainland has been dated to around 1000 CE. The site, situated at the northernmost extent of the island named Newfoundland, has provided unmistakable evidence of Norse settlement. Norse explorer Leif Erikson (c. 970–1020 CE) is thought to have visited the area. Erikson was the first European to make landfall on the continent (excluding Greenland).\\nThe Mayan culture was still present in southern Mexico and Guatemala when the Spanish conquistadors arrived, but political dominance in the area had shifted to the Aztec Empire, whose capital city Tenochtitlan was located further north in the Valley of Mexico. The Aztecs were conquered in 1521 by Hernán Cortés.\\n\\n\\n=== Post-contact, 1492–1910 ===\\n\\nDuring the so-called Age of Discovery, Europeans explored overseas and staked claims to various parts of North America, much of which was already settled by indigenous peoples. Upon Europeans\\' arrival in the \"New World\", indigenous peoples had a variety of reactions, including curiosity, trading, cooperation, resignation, and resistance. The indigenous population declined substantially following European arrival, primarily due to the introduction of Eurasian diseases, such as smallpox, to which the indigenous peoples lacked immunity, and because of violent conflicts with Europeans. Indigenous culture changed significantly and their affiliation with political and cultural groups also changed. Several linguistic groups died out, and others changed quite quickly.\\nOn North America\\'s southeastern coast, Spanish explorer Juan Ponce de León, who had accompanied Columbus\\'s second voyage, visited and named in 1513 La Florida. As the colonial period unfolded, Spain, England, and France appropriated and claimed extensive territories in North America eastern and southern coastlines. Spain established permanent settlements on the Caribbean islands of Hispaniola and Cuba in the 1490s, building cities, putting the resident indigenous populations to work, raising crops for Spanish settlers and panning gold to enrich the Spaniards. Much of the indigenous population died due to disease and overwork, spurring the Spaniards on to claim new lands and peoples. An expedition under the command of Spanish settler, Hernán Cortés, sailed westward in 1519 to what turned out to be the mainland in Mexico. With local indigenous allies, the Spanish conquered the Aztec empire in central Mexico in 1521. Spain then established permanent cities in Mexico, Central America, and Spanish South America in the sixteenth century. Once Spaniards conquered the high civilization of the Aztecs and Incas, the Caribbean was a backwater of the Spanish empire.\\nOther European powers began to intrude on areas claimed by Spain, including the Caribbean islands. France took the western half of Hispaniola and developed Saint-Domingue as a cane sugar producing colony worked by black slave labor. Britain took Barbados and Jamaica, and the Dutch and Danes took islands previously claimed by Spain. Britain did not begin settling on the North American mainland until a hundred years after the first Spanish settlements, since it sought first to control nearby Ireland.\\n\\n\\n=== English settlements ===\\n\\nThe first permanent English settlement was in Jamestown, Virginia in 1607, followed by additional colonial establishments on the east coast from present-day Georgia in the south to Massachusetts in the north, forming the Thirteen Colonies of British America. The English did not establish settlements north or east of the St. Lawrence Valley in present-day Canada until after the conclusion of the American Revolutionary War. Britain\\'s early settlements in present-day Canada included St. John\\'s, Newfoundland in 1630 and Halifax, Nova Scotia in 1749. The first permanent French settlement was in Quebec City, Quebec, established in 1608.\\n\\n\\n=== Seven Years\\' War ===\\n\\nWith the British victory in the Seven Years\\' War, France in 1763 ceded to Britain its claims of North American territories east of the Mississippi River. Spain, in turn, gained rights to the territories west of Mississippi, which then served as a border between Spain and Britain\\'s territorial claims. French colonists settled Illinois Country after several generations of experience on North America, migrating over the Mississippi River to regions where Spain was not present and where they were able to leverage their earlier Louisiana French settlements around the Gulf of Mexico. These early French settlers partnered with midwest indigenous tribes, and their mixed ancestry descendants later followed a westward expansion all the way to the Pacific Ocean on the present-day U.S. West Coast.\\n\\n\\n=== American Revolution ===\\n\\nIn 1776, after various attempts to reconcile differences with the British, the Thirteen Colonies in British America sent delegates to the Second Continental Congress in Philadelphia, who unanimously adopted the Declaration of Independence on 4 July 1776, written primarily by Thomas Jefferson, a member of the Committee of Five charged by the Second Continental Congress with authoring it. In the Declaration, the thirteen colonies declared their independence from the British monarchy, then governed by King George III, and detailed the factors that contributed to their decision. With the signing and issuance of the Declaration of Independence, the thirteen colonies formalized and escalated the American Revolutionary War, which had begun the year before at the Battles of Lexington and Concord on 19 April 1775. Gathered in Philadelphia following the war\\'s outbreak, delegates from the thirteen colonies established the Continental Army from various patriot militias then engaged in resisting the British, and appointed George Washington as the Continental Army\\'s military commander.\\nAs the American Revolutionary War progressed, France and Spain, both then enemies of Britain, began to ultimately see the promise of a potential American victory in the war and began supporting Washington and the American Revolutionary cause. The British Army, in turn, was supported by Hessian military units from present-day Germany.\\nIn 1783, after an eight-year attempt to defeat the American rebellion, King George III acknowledged Britain\\'s defeat in the war, leading to the signing of the Treaty of Paris on 3 September 1783, which solidified the sovereign establishment of the United States.\\n\\n\\n=== Westward expansion ===\\n\\nBy the late 18th century, Russia was established on the Pacific Northwest northern coastline, where it was engaged in maritime fur trade and was supported by various indigenous settlements in the region. As a result, the Spanish were showing more interest in controlling the trade on the Pacific coast and mapped most of its coastline. The first Spanish settlements were attempted in Alta California during that period. Numerous overland explorations associated with voyageurs, fur trade, and U.S. led expeditions, including the Lewis and Clark, Frémont and Wilkes expeditions, reached the Pacific.\\nIn 1803, during the presidency of Thomas Jefferson, the third U.S. president, Napoleon Bonaparte sold France\\'s remaining North American territorial claims, which included regions west of the Mississippi River, to the U.S., in the Louisiana Purchase. Spain and the U.S. settled their western boundary dispute in 1819 in the Adams–Onís Treaty. Mexico fought a lengthy war for independence from Spain, winning it for Mexico (which included Central America at the time) in 1821. The U.S. sought further westward expansion and fought the Mexican–American War, gaining a vast territory that first Spain and then Mexico claimed but which they did not effectively control. Much of the area was in fact dominated by indigenous peoples, which did not recognize the claims of Spain, France, or the U.S. Russia sold its North American claims, which included the present-day U.S. state of Alaska, to the U.S. in 1867.\\n\\n\\n=== Canada and Panama Canal ===\\n\\nIn 1867, colonial settlers north of the United States, unified as the dominion of Canada. The U.S. sought to dig a canal across the Isthmus of Panama in present-day Panama in Central America, then a part of present-day Colombia. The U.S. aided Panamanians in a war that resulted in its separation from Colombia. The U.S. subsequently carved out the Panama Canal Zone, and claimed sovereignty over it. After decades of work, the Panama Canal was completed, which connected the Atlantic and Pacific oceans in 1913 and greatly facilitated global shipping navigation.\\n\\n\\n== Demographics ==\\n\\nCanada and the United States are the wealthiest and most developed nations on the continent followed by Mexico, a newly industrialized country. The countries of Central America and the Caribbean are at various levels of economic and human development. For example, small Caribbean island-nations, such as Barbados, Trinidad and Tobago, and Antigua and Barbuda, have a higher GDP (PPP) per capita than Mexico due to their smaller populations. Panama and Costa Rica have a significantly higher Human Development Index and GDP than the rest of the Central American nations. Additionally, despite Greenland\\'s vast resources in oil and minerals, much of them remain untapped, and the island is economically dependent on fishing, tourism, and subsidies from Denmark. Nevertheless, the island is highly developed.\\nDemographically, North America is ethnically diverse. Its three largest groups are Whites, Mestizos, and Blacks. There is a significant minority of Indigenous Americans and Asians among other less numerous groups.\\n\\n\\n=== Languages ===\\n\\nThe dominant languages in North America are English, Spanish, and French. Danish is prevalent in Greenland alongside Greenlandic, and Dutch is spoken side by side local languages in the Dutch Caribbean. The term Anglo-America is used to refer to the anglophone countries of the Americas: namely Canada (where English and French are co-official) and the U.S., but also sometimes Belize and parts of the tropics, especially the Commonwealth Caribbean. Latin America refers to the other areas of the Americas (generally south of the U.S.) where the Romance languages, derived from Latin, of Spanish and Portuguese, (but French-speaking countries are not usually included) predominate: the other republics of Central America (but not always Belize), part of the Caribbean (not the Dutch-, English-, or French-speaking areas), Mexico, and most of South America (except Guyana, Suriname, French Guiana [France], and the Falkland Islands [UK]).\\nThe U.S. has an ethnically diverse population, and 37 ancestry groups have more than one million members. The French language has historically played a significant role in North America and now retains a distinctive presence in some regions. Canada is officially bilingual. French is the official language of the province of Quebec, where 95% of the people speak it as either their first or second language, and it is co-official with English in the province of New Brunswick. Other French-speaking locales include the province of Ontario (the official language is English, but there are an estimated 600,000 Franco-Ontarians), the province of Manitoba (co-official as de jure with English), the French West Indies and Saint-Pierre et Miquelon, as well as the U.S. state of Louisiana, where French is also an official language. Haiti is included with this group based on historical association but Haitians speak both Creole and French. Similarly, French and French Antillean Creole is spoken in Saint Lucia and the Commonwealth of Dominica alongside English.\\n\\n\\n=== Indigenous languages ===\\n\\nA significant number of indigenous languages are spoken in North America, with roughly 6 million in Mexico speaking an indigenous language at home, 372,000 people in the U.S., and about 225,000 in Canada. In the U.S. and Canada, there are approximately 150 surviving indigenous languages of the 300 spoken prior to European contact.\\n\\n\\n=== Religions ===\\n\\nChristianity is the largest religion in the United States, Canada, and Mexico. According to a 2012 Pew Research Center survey, 77% of the population considered themselves Christians. Christianity also is the predominant religion in the 23 dependent territories in North America. The U.S. has the largest Christian population in the world, with nearly 247 million Christians (70%), although other countries have higher percentages of Christians among their populations. Mexico has the world\\'s second-largest number of Catholics, surpassed only by Brazil.\\nAccording to the same study, the religiously unaffiliated (including agnostics and atheists) make up about 17% of the population of Canada and the U.S. Those with no religious affiliation make up about 24% of Canada\\'s total population.\\nCanada, the U.S., and Mexico host communities of Jews (6 million or about 1.8%), Buddhists (3.8 million or 1.1%) and Muslims (3.4 million or 1.0%). The largest number of Jews can be found in the U.S. (5.4 million), Canada (375,000) and Mexico (67,476). The U.S. hosts the largest Muslim population in North America with 2.7 million or 0.9%, while Canada hosts about one million Muslims or 3.2% of the population. In Mexico there were 3,700 Muslims in 2010. In 2012, U-T San Diego estimated U.S. practitioners of Buddhism at 1.2 million people, of whom 40% are living in Southern California.\\nThe predominant religion in Mexico and Central America is Christianity (96%). Beginning with the Spanish colonization of Mexico in the 16th century, Roman Catholicism was the only religion permitted by Spanish crown and Catholic church. A vast campaign of religious conversion, the so-called \"spiritual conquest\", was launched to bring the indigenous peoples into the Christian fold. The Inquisition was established to assure orthodox belief and practice. The Catholic Church remained an important institution, so that even after political independence, Roman Catholicism remained the dominant religion. Since the 1960s, there has been an increase in other Christian groups, particularly Protestantism, as well as other religious organizations, and individuals identifying themselves as having no religion. Christianity is also the predominant religion in the Caribbean (85%). Other religious groups in the region are Hinduism, Islam, Rastafari (in Jamaica), and Afro-American religions such as Santería and Vodou.\\n\\n\\n=== Populace ===\\n\\nNorth America is the fourth most populous continent after Asia, Africa, and Europe. Its most populous country is the U.S. with 329.7 million persons. The second-largest country is Mexico with a population of 112.3 million. Canada is the third-most-populous country with 37.0 million. The majority of Caribbean island-nations have national populations under a million, though Cuba, Dominican Republic, Haiti, Puerto Rico (a territory of the U.S.), Jamaica, and Trinidad and Tobago each have populations higher than a million. Greenland has a small population of 55,984 for its massive size (2.166 million km2 or 836,300 mi2), and therefore, it has the world\\'s lowest population density at 0.026 pop./km2 (0.067 pop./mi2).\\nWhile the U.S., Canada, and Mexico maintain the largest populations, large city populations are not restricted to those nations. There are also large cities in the Caribbean. The largest cities in North America, by far, are Mexico City and New York City. These cities are the only cities on the continent to exceed eight million, and two of three in the Americas. Next in size are Los Angeles, Toronto, Chicago, Havana, Santo Domingo, and Montreal. Cities in the Sun Belt regions of the U.S., such as those in Southern California and Houston, Phoenix, Miami, Atlanta, and Las Vegas, are experiencing rapid growth. These causes included warm temperatures, retirement of Baby Boomers, large industry, and the influx of immigrants. Cities near the U.S. border, particularly in Mexico, are also experiencing large amounts of growth. Most notable is Tijuana, a city bordering San Diego that receives immigrants from all over Latin America and parts of Europe and Asia. Yet as cities grow in these warmer regions of North America, they are increasingly forced to deal with the major issue of water shortages.\\nEight of the top ten metropolitan areas are located in the U.S. These metropolitan areas all have a population of above 5.5 million and include the New York City metropolitan area, Los Angeles metropolitan area, Chicago metropolitan area, and the Dallas–Fort Worth metroplex. While the majority of the largest metropolitan areas are within the U.S., Mexico is host to the largest metropolitan area by population in North America: Greater Mexico City. Canada also breaks into the top ten largest metropolitan areas with the Toronto metropolitan area having six million people. The proximity of cities to each other on the Canada–United States border and the Mexico–U.S. border has led to the rise of international metropolitan areas. These urban agglomerations are observed at their largest and most productive in Detroit–Windsor and San Diego–Tijuana and experience large commercial, economic, and cultural activity. The metropolitan areas are responsible for millions of dollars of trade dependent on international freight. In Detroit-Windsor the Border Transportation Partnership study in 2004 concluded US$13 billion was dependent on the Detroit–Windsor international border crossing while in San Diego–Tijuana freight at the Otay Mesa Port of Entry was valued at US$20 billion.\\n\\nNorth America has also been witness to the growth of megapolitan areas. The United States includes eleven megaregions.\\n\\n†2011 Census figures\\n\\n\\n== Economy ==\\n\\nNorth America\\'s GDP per capita was evaluated in October 2016 by the International Monetary Fund (IMF) to be $41,830, making it the richest continent in the world, followed by Oceania.\\nCanada, Mexico, and the U.S. have significant and multifaceted economic systems. The U.S. has the largest economy in the world. In 2016, the U.S. had an estimated per capita gross domestic product (PPP) of $57,466 according to the World Bank, and is the most technologically developed economy of the three. The U.S.\\'s services sector comprises 77% of the country\\'s GDP (estimated in 2010), industry comprises 22% and agriculture comprises 1.2%. The U.S. economy is also the fastest-growing economy in North America and the Americas as a whole, with the highest GDP per capita in the Americas as well.\\nCanada shows significant growth in the sectors of services, mining and manufacturing. Canada\\'s per capita GDP (PPP) was estimated at $44,656 and it had the 11th-largest GDP (nominal) in 2014. Canada\\'s services sector comprises 78% of the country\\'s GDP (estimated in 2010), industry comprises 20% and agriculture comprises 2%. Mexico has a per capita GDP (PPP) of $16,111 and as of 2014 is the 15th-largest GDP (nominal) in the world. Being a newly industrialized country, Mexico maintains both modern and outdated industrial and agricultural facilities and operations. Its main sources of income are oil, industrial exports, manufactured goods, electronics, heavy industry, automobiles, construction, food, banking and financial services.\\nThe North American economy is well defined and structured in three main economic areas. These areas are those under the North American Free Trade Agreement (NAFTA), the Caribbean Community and Common Market (CARICOM), and the Central American Common Market (CACM). Of these trade blocs, the U.S. takes part in two. In addition to the larger trade blocs there is the Canada-Costa Rica Free Trade Agreement among numerous other free-trade relations, often between the larger, more developed countries and Central American and Caribbean countries.\\nNAFTA formed one of the four largest trade blocs in the world. Its implementation in 1994 was designed for economic homogenization with hopes of eliminating barriers of trade and foreign investment between Canada, the U.S. and Mexico. While Canada and the U.S. already conducted the largest bilateral trade relationship—and to present day still do—in the world and Canada–U.S. trade relations already allowed trade without national taxes and tariffs, NAFTA allowed Mexico to experience a similar duty-free trade. The free-trade agreement allowed for the elimination of tariffs that had previously been in place on U.S.–Mexico trade. Trade volume has steadily increased annually and in 2010, surface trade between the three NAFTA nations reached an all-time historical increase of 24.3% or US$791 billion. The NAFTA trade bloc GDP (PPP) is the world\\'s largest with US$17.617 trillion. This is in part attributed to the fact that the economy of the U.S. is the world\\'s largest national economy; the country had a nominal GDP of approximately $14.7 trillion in 2010. The countries of NAFTA are also some of each other\\'s largest trade partners. The U.S. is the largest trade partner of Canada and Mexico, while Canada and Mexico are each other\\'s third-largest trade partners. In 2018, the NAFTA was replaced by the U.S.–Mexico–Canada Agreement (USMCA).\\nThe Caribbean trade bloc (CARICOM) came into agreement in 1973 when it was signed by 15 Caribbean nations. As of 2000, CARICOM trade volume was US$96 billion. CARICOM also allowed for the creation of a common passport for associated nations. In the past decade the trade bloc focused largely on free-trade agreements and under the CARICOM Office of Trade Negotiations free-trade agreements have been signed into effect.\\nIntegration of Central American economies occurred under the signing of the Central American Common Market agreement in 1961; this was the first attempt to engage the nations of this area into stronger financial cooperation. The 2006 implementation of the Central American Free Trade Agreement (CAFTA) left the future of the CACM unclear. The Central American Free Trade Agreement was signed by five Central American countries, the Dominican Republic, and the U.S. The focal point of CAFTA is to create a free trade area similar to that of NAFTA. In addition to the U.S., Canada also has relations in Central American trade blocs.\\nThese nations also take part in inter-continental trade blocs. Mexico takes a part in the G3 Free Trade Agreement with Colombia and Venezuela and has a trade agreement with the EU. The U.S. has proposed and maintained trade agreements under the Transatlantic Free Trade Area between itself and the European Union; the U.S.–Middle East Free Trade Area between numerous Middle Eastern nations and itself; and the Trans-Pacific Strategic Economic Partnership between Southeast Asian nations, Australia, and New Zealand.\\n\\n\\n=== Transport ===\\n\\nThe Pan-American Highway route in the Americas is the portion of a network of roads nearly 48,000 km (30,000 mi) in length which travels through the mainland nations. No definitive length of the Pan-American Highway exists because the U.S. and Canadian governments have never officially defined any specific routes as being part of the Pan-American Highway, and Mexico officially has many branches connecting to the U.S. border. However, the total length of the portion from Mexico to the northern extremity of the highway is roughly 26,000 km (16,000 mi).\\nThe first transcontinental railroad in the U.S. was built in the 1860s, linking the railroad network of the eastern U.S. with California on the Pacific coast. Finished on 10 May 1869 at the famous golden spike event at Promontory Summit, Utah, it created a nationwide mechanized transportation network that revolutionized the population and economy of the American West, catalyzing the transition from the wagon trains of previous decades to a modern transportation system. Although an accomplishment, it achieved the status of first transcontinental railroad by connecting myriad eastern U.S. railroads to the Pacific and was not the largest single railroad system in the world. The Canadian Grand Trunk Railway had, by 1867, already accumulated more than 2,055 km (1,277 mi) of track by connecting Ontario with the Canadian Atlantic provinces west as far as Port Huron, Michigan, through Sarnia, Ontario.\\n\\n\\n=== Communications ===\\nA shared telephone system known as the North American Numbering Plan is an integrated telephone numbering plan of 24 countries and territories: the U.S. and its territories, Canada, Bermuda, and 17 Caribbean nations. In recent months the internet service by Starlink has expanded to cover a number of North American markets.\\n\\n\\n== Culture ==\\n\\nThe cultures of North America are diverse. The U.S. and English Canada have many cultural similarities, while French Canada has a distinct culture from Anglophone Canada, which is protected by law. Since the U.S. was formed from portions previously part of the Spanish Empire and then independent Mexico, and there has been considerable and continuing immigration of Spanish speakers from south of the U.S.–Mexico border. In the southwest of the U.S. there are many Hispanic cultural traditions and considerable bilingualism. Mexico and Central America are part of Latin America and are culturally distinct from anglophone and francophone North America. However, they share with the United States the establishment of post-independence governments that are federated representative republics with written constitutions dating from their founding as nations. Canada is a federated parliamentary democracy under a constitutional monarchy.\\nCanada\\'s constitution dates to 1867, with confederation, in the British North America Act, but not until 1982 did Canada have the power to amend its own constitution. Canada\\'s Francophone heritage has been enshrined in law since the British parliament passed the Quebec Act of 1774. In contrast to largely Protestant Anglo settlers in North America, French-speaking Canadians were Catholic and with the Quebec Act were guaranteed freedom to practice their religion, restored the right of the Catholic Church to impose tithes for its support, and established French civil law in most circumstances.\\nThe distinctiveness of French language and culture has been codified in Canadian law, so that both English and French are designated official languages. The U.S. has no official language, but its national language is English.\\nThe Canadian government took action to protect Canadian culture by limiting non-Canadian content in broadcasting, creating the Canadian Radio and Telecommunications Commission to monitor Canadian content. In Quebec, the provincial government established the Quebec Office of the French Language, often called the \"language police\" by Anglophones, which mandates the use of French terminology and signage in French. Since 1968 the unicameral legislature has been called the Quebec National Assembly. Saint-Jean-Baptiste Day, 24 June, is the national holiday of Quebec and celebrated by francophone Canadians throughout Canada. In Quebec, the school system was divided into Catholic and Protestant, so-called confessional schools. Anglophone education in Quebec has been increasingly undermined.\\n\\nLGBT culture is prominently displayed in more tolerant regions of North America. This is most significantly exemplified at pride parades in cities across the continent, the two largest being held in New York City and Toronto, respectively.\\nLatino culture is strong in the southwestern United States, as well as in the New York metropolitan area and Florida, which draw Latin Americans from many countries in the Western hemisphere. Northern Mexico, particularly in the cities of Monterrey, Tijuana, Ciudad Juárez, and Mexicali, is strongly influenced by the culture and way of life of the U.S. Monterrey, a modern city with a significant industrial group, has been regarded as the most Americanized city in Mexico. Northern Mexico, the Western U.S. and Alberta, Canada share a cowboy culture.\\nThe Anglophone Caribbean states have witnessed and participated in the decline of the British Empire and its influence on the region, and its replacement by the economic influence of Northern America in the Anglophone Caribbean. This is partly due to the relatively small populations of the English-speaking Caribbean countries, and also because many of them now have more people living abroad than those remaining at home.\\nGreenland has experienced many immigration waves from Northern Canada, e.g. by the Thule people. Therefore, Greenland shares some cultural ties with the indigenous peoples of Canada. Greenland is also considered Nordic and has strong Danish ties due to centuries of colonization by Denmark.\\n\\n\\n=== Popular culture – sports ===\\n\\nThe U.S. and Canada have major sports teams that compete against each other, including baseball, basketball, hockey, and soccer/football. Canada, Mexico, and the U.S. will host the 2026 FIFA World Cup.\\nThe Native American game of lacrosse is considered a national sport in Canada. Curling is an important winter sport in Canada, and the Winter Olympics includes it in the roster. The English sport of cricket is popular in parts of anglophone Canada and very popular in parts of the former British empire, but in Canada is considered a minor sport. Boxing is also a major sport in some countries, such as Mexico, Panama and Puerto Rico, and it is considered one of the main individual sports in the U.S. Canada has a separate Canadian Football League from the U.S. teams.\\nThe following table shows the most prominent sports leagues in North America, in order of average revenue. \\n\\n\\n== See also ==\\n\\nFlags of North America\\nList of cities in North America\\nTable manners in North America\\nNorth American Union\\n\\n\\n== References ==\\n\\n\\n=== Footnotes ===\\n\\n\\n=== Citations ===\\n\\n\\n== Further reading ==\\n\\n\\n== External links ==\\nNorth America web resources provided by GovPubs at the University of Colorado Boulder Libraries\\nNorth America at the Encyclopædia Britannica\\nNorth America: Human Geography Archived 29 September 2023 at the Wayback Machine at the National Geographic Society\\nEuropean Colonization of North America Archived 28 September 2023 at the Wayback Machine at the National Geographic Society\\n\"North America\" . Encyclopædia Britannica. Vol. 19 (11th ed.). 1911. pp. 760–765.\\nThe Columbia Gazetteer of the World Online Archived 1 September 2006 at the Wayback Machine Columbia University Press\\n\"Colonial North America at Harvard Library\". Cambridge, Massachusetts: Harvard Library. 2015. LCCN 2019234716. Archived from the original on 25 March 2023. Retrieved 25 March 2023.\\nInteractive SVG version of Non-Native American Nations Control over N America 1750–2008 animation'}\n"
          ]
        }
      ]
    },
    {
      "cell_type": "code",
      "source": [
        "# Recovering documents using Levensthein:\n",
        "! pip3 install python-Levenshtein\n",
        "\n",
        "from Levenshtein import distance\n",
        "\n",
        "distance('Europe', 'Africa')\n",
        "\n",
        "distance('North America', 'South America')\n",
        "\n",
        "documents.keys()\n",
        "\n",
        "titles = list(documents.keys())"
      ],
      "metadata": {
        "colab": {
          "base_uri": "https://localhost:8080/"
        },
        "id": "_MhX78A-12A5",
        "outputId": "a561455f-3548-4e5a-dc9f-bb92b9a04c55"
      },
      "execution_count": 7,
      "outputs": [
        {
          "output_type": "stream",
          "name": "stdout",
          "text": [
            "Collecting python-Levenshtein\n",
            "  Downloading python_Levenshtein-0.26.1-py3-none-any.whl.metadata (3.7 kB)\n",
            "Collecting Levenshtein==0.26.1 (from python-Levenshtein)\n",
            "  Downloading levenshtein-0.26.1-cp311-cp311-manylinux_2_17_x86_64.manylinux2014_x86_64.whl.metadata (3.2 kB)\n",
            "Collecting rapidfuzz<4.0.0,>=3.9.0 (from Levenshtein==0.26.1->python-Levenshtein)\n",
            "  Downloading rapidfuzz-3.12.1-cp311-cp311-manylinux_2_17_x86_64.manylinux2014_x86_64.whl.metadata (11 kB)\n",
            "Downloading python_Levenshtein-0.26.1-py3-none-any.whl (9.4 kB)\n",
            "Downloading levenshtein-0.26.1-cp311-cp311-manylinux_2_17_x86_64.manylinux2014_x86_64.whl (162 kB)\n",
            "\u001b[2K   \u001b[90m━━━━━━━━━━━━━━━━━━━━━━━━━━━━━━━━━━━━━━━━\u001b[0m \u001b[32m162.7/162.7 kB\u001b[0m \u001b[31m9.2 MB/s\u001b[0m eta \u001b[36m0:00:00\u001b[0m\n",
            "\u001b[?25hDownloading rapidfuzz-3.12.1-cp311-cp311-manylinux_2_17_x86_64.manylinux2014_x86_64.whl (3.1 MB)\n",
            "\u001b[2K   \u001b[90m━━━━━━━━━━━━━━━━━━━━━━━━━━━━━━━━━━━━━━━━\u001b[0m \u001b[32m3.1/3.1 MB\u001b[0m \u001b[31m43.4 MB/s\u001b[0m eta \u001b[36m0:00:00\u001b[0m\n",
            "\u001b[?25hInstalling collected packages: rapidfuzz, Levenshtein, python-Levenshtein\n",
            "Successfully installed Levenshtein-0.26.1 python-Levenshtein-0.26.1 rapidfuzz-3.12.1\n"
          ]
        }
      ]
    },
    {
      "cell_type": "code",
      "source": [
        "# Defining functions to calculate distance and to rank the closest titles to a search:\n",
        "def levenshtein(str1, str2):\n",
        "    return distance(str1.lower(), str2.lower(), weights=(1, 10, 10))\n",
        "\n",
        "def distance_ranking(search):\n",
        "  distances = [(title, levenshtein(search, title)) for title in titles]\n",
        "  return sorted(distances, key=lambda x: x[1])\n",
        "\n",
        "distance_ranking('El Salvador')\n",
        "\n",
        "distance_ranking('Louisiana')"
      ],
      "metadata": {
        "colab": {
          "base_uri": "https://localhost:8080/"
        },
        "id": "OOWks9ii26-_",
        "outputId": "182d0ab4-733a-4e24-d7a0-335a6ee6f137"
      },
      "execution_count": 8,
      "outputs": [
        {
          "output_type": "execute_result",
          "data": {
            "text/plain": [
              "[('South American plate', 41),\n",
              " ('List of islands in the Pacific Ocean', 47),\n",
              " ('Women in Oceania', 47),\n",
              " ('Asia (Asia album)', 49),\n",
              " ('South Africa', 53),\n",
              " ('Latin America', 54),\n",
              " ('South America', 54),\n",
              " ('Australia (continent)', 54),\n",
              " ('List of North American cities by population', 56),\n",
              " ('British colonization of the Americas', 57),\n",
              " ('Languages of South America', 57),\n",
              " ('List of South American countries by population', 57),\n",
              " ('European Union', 57),\n",
              " ('Survivor: Africa', 58),\n",
              " ('Enel North America', 59),\n",
              " ('North American Union', 61),\n",
              " ('British North America', 62),\n",
              " ('West Asia', 62),\n",
              " ('List of sovereign states and dependent territories in Oceania', 62),\n",
              " ('North Africa', 63),\n",
              " ('2025 Formula Regional Oceania Championship', 63),\n",
              " ('Flag of Central America', 64),\n",
              " ('Europe (band)', 64),\n",
              " ('West Africa', 64),\n",
              " ('Indigenous peoples of the Americas', 65),\n",
              " ('Economy of South America', 65),\n",
              " ('History of South America', 65),\n",
              " ('Languages of Europe', 65),\n",
              " ('Federal Republic of Central America', 66),\n",
              " ('Central American Integration System', 66),\n",
              " ('Indigenous peoples of South America', 66),\n",
              " ('Central America', 67),\n",
              " ('2025 Oceania Badminton Championships', 67),\n",
              " ('Central Time Zone', 68),\n",
              " ('SS Central America', 70),\n",
              " ('Northwestern Europe', 70),\n",
              " ('Africa', 70),\n",
              " ('.africa', 70),\n",
              " ('Americas', 71),\n",
              " ('Europe (Europe album)', 72),\n",
              " ('Supreme Allied Commander Europe', 73),\n",
              " ('Political geography of Nineteen Eighty-Four', 74),\n",
              " ('Dominican Republic–Central America Free Trade Agreement', 76),\n",
              " ('Eastern Europe', 77),\n",
              " ('Europe, Europe', 77),\n",
              " ('List of sovereign states and dependent territories in North America', 78),\n",
              " ('List of sovereign states and dependent territories in South America', 78),\n",
              " ('Europe', 80)]"
            ]
          },
          "metadata": {},
          "execution_count": 8
        }
      ]
    },
    {
      "cell_type": "code",
      "source": [
        "# Defining a function to return the closest document to the search:\n",
        "def recover_document(search):\n",
        "  distances = distance_ranking(search)\n",
        "  return documents[sorted(distances, key=lambda x: x[1])[0][0]]['content']\n",
        "\n",
        "recover_document('Mexico')\n",
        "recover_document('Zambia')"
      ],
      "metadata": {
        "colab": {
          "base_uri": "https://localhost:8080/",
          "height": 202
        },
        "id": "qzP3Z3lF9A-p",
        "outputId": "52ad27cf-004d-441b-8435-8072963af45a"
      },
      "execution_count": 9,
      "outputs": [
        {
          "output_type": "execute_result",
          "data": {
            "text/plain": [
              "'The Americas, sometimes collectively called America, are a landmass comprising the totality of North America and South America. When viewed as a single continent, the Americas or America is the 2nd largest continent right after Asia, and is the 3rd largest continent by population. The Americas make up most of the land in Earth\\'s Western Hemisphere and comprise the New World.\\nAlong with their associated islands, the Americas cover 8% of Earth\\'s total surface area and 28.4% of its land area. The topography is dominated by the American Cordillera, a long chain of mountains that runs the length of the west coast. The flatter eastern side of the Americas is dominated by large river basins, such as the Amazon, St. Lawrence River–Great Lakes, Mississippi, and La Plata basins. Since the Americas extend 14,000 km (8,700 mi) from north to south, the climate and ecology vary widely, from the arctic tundra of Northern Canada, Greenland, and Alaska, to the tropical rainforests in Central America and South America.\\nHumans first settled the Americas from Asia between 20,000 and 16,000 years ago. A second migration of Na-Dene speakers followed later from Asia. The subsequent migration of the Inuit into the neoarctic c.\\u20093500 BCE completed what is generally regarded as the settlement by the Indigenous peoples of the Americas. The first known European settlement in the Americas was by the Norse explorer Leif Erikson. However, the colonization never became permanent and was later abandoned. The Spanish voyages of Christopher Columbus from 1492 to 1504 resulted in permanent contact with European (and subsequently, other Old World) powers, which eventually led to the Columbian exchange and inaugurated a period of exploration, conquest, and colonization whose effects and consequences persist to the present. The Spanish presence involved the enslavement of large numbers of the indigenous population of America. Diseases introduced from Europe and West Africa devastated the indigenous peoples, and the European powers colonized the Americas. Mass emigration from Europe, including large numbers of indentured servants, and importation of African slaves largely replaced the indigenous peoples in much of the Americas. Decolonization of the Americas began with the American Revolution in the 1770s and largely ended with the Spanish–American War in the late 1890s. Currently, almost all of the population of the Americas resides in independent countries; however, the legacy of the colonization and settlement by Europeans is that the Americas share many common cultural traits, most notably Christianity and the use of West European languages: primarily Spanish, English, Portuguese, French, and, to a lesser extent, Dutch.\\nThe Americas are home to more than a billion inhabitants, two-thirds of whom reside in the United States, Brazil, and Mexico. It is home to eight megacities (metropolitan areas with 10 million inhabitants or more): Greater Mexico City (21.2 million), São Paulo (21.2 million), New York City (19.7 million), Los Angeles (18.8 million), Buenos Aires (15.6 million), Rio de Janeiro (13.0 million), Bogotá (10.4 million), and Lima (10.1 million).\\n\\n\\n== Etymology and naming ==\\n\\nThe name \"America\" was first recorded in 1507. A two-dimensional globe created by Martin Waldseemüller was the earliest recorded use of the term. The name was also used (together with the related term Amerigen) in the Cosmographiae Introductio, apparently written by Matthias Ringmann, in reference to South America. It was applied to both North and South America by Gerardus Mercator in 1538. \"America\" derives from Americus, the Latin version of Italian explorer Amerigo Vespucci\\'s first name. \\nThe feminine form America was originally used to refer to the newly discovered continent, which is why it was accorded with the feminine names of the other continents: Asia, Africa, and Europa.\\nSince the 1950s, however, North America and South America have generally been considered by English speakers as separate continents, and taken together are called the Americas, or more rarely America. When conceived as a unitary continent, the form is generally the continent of America in the singular. However, without a clarifying context, singular America in English commonly refers to the United States of America.\\n\\n\\n== History ==\\n\\n\\n=== Pre-Columbian era ===\\n\\nThe pre-Columbian era incorporates all period subdivisions in the history and prehistory of the Americas before the appearance of significant European influences on the American continents, spanning the time of the original settlement in the Upper Paleolithic to European colonization during the Early Modern period. The term Pre-Columbian is used especially often in the context of the great indigenous civilizations of the Americas, such as those of Mesoamerica (Olmec, Toltec, Teotihuacano, Zapotec, Mixtec, Aztec, Maya) and the Andean civilizations (Inca, Moche, Chavín, Muisca, Cañari).\\nMany pre-Columbian civilizations established characteristics and hallmarks which included permanent or urban settlements, agriculture, civic and monumental architecture, and complex societal hierarchies. Some of these civilizations had long faded by the time of the first permanent European arrivals (c.\\u2009late 15th–early 16th centuries), and are known only through archeological investigations. Others were contemporary with this period, and are also known from historical accounts of the time. A few, such as the Maya, had their own written records. However, most Europeans of the time viewed such texts as pagan, and much was destroyed in Christian pyres. Only a few hidden documents remain today, leaving modern historians with glimpses of ancient culture and knowledge.\\n\\n\\n==== Settlement ====\\n\\nThe first inhabitants migrated into the Americas from Asia. Habitation sites are known in Alaska and Yukon from at least 20,000 years ago, with suggested ages of up to 40,000 years. Beyond that, the specifics of the Paleo-Indian migration to and throughout the Americas, including the dates and routes traveled, are subject to ongoing research and discussion. Widespread habitation of the Americas occurred after the Late Glacial Maximum, from 16,000 to 13,000 years ago.\\n\\nThe traditional theory has been that these early migrants moved into the Beringia land bridge between eastern Siberia and present-day Alaska around 40,000–17,000 years ago, when sea levels were significantly lowered during the Quaternary glaciation. These people are believed to have followed herds of now-extinct pleistocene megafauna along ice-free corridors that stretched between the Laurentide and Cordilleran ice sheets. Another route proposed is that, either on foot or using primitive boats, they migrated down the Pacific coast to South America. Evidence of the latter would since have been covered by a sea level rise of hundreds of meters following the last ice age. Both routes may have been taken, although the genetic evidences suggests a single founding population. The micro-satellite diversity and distributions specific to South American Indigenous peoples indicates that certain populations have been isolated since the initial colonization of the region.\\nA second migration occurred after the initial peopling of the Americas; Na Dene speakers found predominantly in North American groups at varying genetic rates with the highest frequency found among the Athabaskans at 42% derive from this second wave. Linguists and biologists have reached a similar conclusion based on analysis of Amerindian language groups and ABO blood group system distributions. Then the people of the Arctic small tool tradition, a broad cultural entity that developed along the Alaska Peninsula, around Bristol Bay, and on the eastern shores of the Bering Strait c.\\u20092500 BCE moved into North America. The Arctic small tool tradition, a Paleo-Eskimo culture branched off into two cultural variants, including the Pre-Dorset, and the Independence traditions of Greenland. The descendants of the Pre-Dorset cultural group, the Dorset culture was displaced by the final migrants from the Bering sea coast line, the Thule people (the ancestors of modern Inuit), by 1000 CE.\\n\\n\\n==== Norse colonization ====\\n\\nAround the same time as the Inuit migrated into Greenland, Viking settlers began arriving in Greenland in 982 and Vinland shortly thereafter, establishing a settlement at L\\'Anse aux Meadows, near the northernmost tip of Newfoundland. Contact between the Norse colonies and Europe was maintained, as James Watson Curran states:From 985 to 1410, Greenland was in touch with the world. Then silence. In 1492 the Vatican noted that no news of that country \"at the end of the world\" had been received for 80 years, and the bishopric of the colony was offered to a certain ecclesiastic if he would go and \"restore Christianity\" there. He didn\\'t go.\\n\\n\\n=== Large-scale European colonization ===\\n\\nAlthough there had been previous trans-oceanic contact, large-scale European colonization of the Americas began with the first voyage of Christopher Columbus in 1492. The first Spanish settlement in the Americas was La Isabela in northern Hispaniola. This town was abandoned shortly after in favor of Santo Domingo de Guzmán, founded in 1496, the oldest American city of European foundation. This was the base from which the Spanish monarchy administered its new colonies and their expansion. Santo Domingo was subject to frequent raids by English and French pirates.\\nOn the continent, Panama City on the Pacific coast of Central America, founded on August 15, 1519, played an important role, being the base for the Spanish conquest of South America. Conquistador Lucas Vázquez de Ayllón established San Miguel de Guadalupe, the first European settlement in what is now the United States, on the Pee Dee River in South Carolina. During the first half of the 16th century, Spanish colonists conducted raids throughout the Caribbean Basin, bringing captives from Central America, northern South America, and Florida back to Hispaniola and other Spanish settlements.\\nFrance, led by Jacques Cartier and Giovanni da Verrazzano, focused primarily on North America. English explorations of the Americas were led by Giovanni Caboto and Sir Walter Raleigh. The Dutch in New Netherland confined their operations to Manhattan Island, Long Island, the Hudson River Valley, and what later became New Jersey. The spread of new diseases brought by Europeans and African slaves killed many of the inhabitants of North America and South America, with a general population crash of Native Americans occurring in the mid-16th century, often well ahead of European contact. One of the most devastating diseases was smallpox.\\nEuropean immigrants were often part of state-sponsored attempts to found colonies in the Americas. Migration continued as people moved to the Americas fleeing religious persecution or seeking economic opportunities. Millions of individuals were forcibly transported to the Americas as slaves, prisoners or indentured servants.\\n\\nDecolonization of the Americas began with the American Revolution and the Haitian Revolution in the late 1700s. This was followed by numerous Latin American wars of independence in the early 1800s. Between 1811 and 1825, Paraguay, Argentina, Chile, Gran Colombia, the United Provinces of Central America, Mexico, Brazil, Peru, and Bolivia gained independence from Spain and Portugal in armed revolutions. After the Dominican Republic won independence from Haiti, it was re-annexed by Spain in 1861, but reclaimed its independence in 1865 at the conclusion of the Dominican Restoration War. The last violent episode of decolonization was the Cuban War of Independence which became the Spanish–American War, which resulted in the independence of Cuba in 1898, and the transfer of sovereignty over Puerto Rico from Spain to the United States.\\nPeaceful decolonization began with the United States\\'s purchase of Louisiana from France in 1803, Florida from Spain in 1819, of Alaska from Russia in 1867, and the Danish West Indies from Denmark in 1916. Canada became independent of the United Kingdom, starting with the Balfour Declaration of 1926, Statute of Westminster 1931, and ending with the patriation of the Canadian Constitution in 1982. The Dominion of Newfoundland similarly achieved independence under the Balfour Declaration and Statute of Westminster, but relinquished self-rule in 1934. It was subsequently confederated with Canada in 1949.\\nThe remaining European colonies in the Caribbean began to achieve peaceful independence well after World War II. Jamaica and Trinidad and Tobago became independent in 1962, and Guyana and Barbados both achieved independence in 1966. In the 1970s, the Bahamas, Grenada, Dominica, St. Lucia, and St. Vincent and the Grenadines all became independent of the United Kingdom, and Suriname became independent of the Netherlands. Belize, Antigua and Barbuda, and Saint Kitts and Nevis achieved independence from the United Kingdom in the 1980s.\\n\\n\\n== Geography ==\\n\\n\\n=== Extent ===\\nThe Americas make up most of the land in Earth\\'s Western Hemisphere. The northernmost point of the Americas is Kaffeklubben Island, which is the most northerly point of land on Earth. The southernmost undisputed point is Águila Islet, although the Antarctic islands of Southern Thule are sometimes taken into account. The mainland of the Americas is the world\\'s longest north-to-south landmass. The distance between its two polar extremities, Murchison Promontory on the Boothia Peninsula in northern Canada and Cape Froward in Chilean Patagonia, is roughly 14,000 km (8,700 mi). The mainland\\'s most westerly point is the end of the Seward Peninsula in Alaska; Attu Island, further off the Alaskan coast to the west, is considered the westernmost point of the Americas. Ponta do Seixas in northeastern Brazil forms the easternmost extremity of the mainland, while Nordostrundingen, in Greenland, is the most easterly point of the continental shelf.\\n\\n\\n=== Geology ===\\nSouth America broke off from the west of the supercontinent Gondwana around 135 million years ago, forming its own continent. Around 15 million years ago, the collision of the Caribbean Plate and the Pacific Plate resulted in the emergence of a series of volcanoes along the border that created a number of islands. The gaps in the archipelago of Central America filled in with material eroded off North America and South America, plus new land created by continued volcanism. By three million years ago, the continents of North America and South America were linked by the Isthmus of Panama, thereby forming the single landmass of the Americas. The Great American Interchange resulted in many species being spread across the Americas, such as the cougar, porcupine, opossums, armadillos, and hummingbirds.\\n\\n\\n=== Topography ===\\n\\nThe geography of the western Americas is dominated by the American Cordillera, with the Andes running along the west coast of South America and the Rocky Mountains and other North American Cordillera ranges running along the western side of North America. The 2,300-kilometer-long (1,400 mi) Appalachian Mountains run along the east coast of North America from Alabama to Newfoundland. North of the Appalachians, the Arctic Cordillera runs along the eastern coast of Canada.\\nThe largest mountain ranges are the Andes and Rocky Mountains. The Sierra Nevada and the Cascade Range reach similar altitudes as the Rocky Mountains, but are significantly smaller. In North America, the greatest number of fourteeners are in the United States, and more specifically in the US state of Colorado. The highest peaks of the Americas are located in the Andes, with Aconcagua of Argentina being the highest; in North America Denali (Mount McKinley) in the US state of Alaska is the tallest.\\nBetween its coastal mountain ranges, North America has vast flat areas. The Interior Plains spread over much of the continent, with low relief. The Canadian Shield covers almost 5 million km2 of North America and is generally quite flat. Similarly, the north-east of South America is covered by the flat Amazon basin. The Brazilian Highlands on the east coast are fairly smooth but show some variations in landform, while farther south the Gran Chaco and Pampas are broad lowlands.\\n\\n\\n=== Climate ===\\n\\nThe climate of the Americas varies significantly from region to region. Tropical rainforest climate occurs in the latitudes of the Amazon, American cloud forests, southeastern Florida and Darién Gap. In the Rocky Mountains and Andes, dry and continental climates are observed. Often the higher altitudes of these mountains are snow-capped.\\nSoutheastern North America is well known for its occurrence of tornadoes and hurricanes, of which the vast majority of tornadoes occur in the United States\\' Tornado Alley, as well as in the southerly Dixie Alley in the North American late-winter and early spring seasons. Often parts of the Caribbean are exposed to the violent effects of hurricanes. These weather systems are formed by the collision of dry, cool air from Canada and wet, warm air from the Atlantic.\\n\\n\\n=== Hydrology ===\\nWith coastal mountains and interior plains, the Americas have several large river basins that drain the continents. The largest river basin in North America is that of the Mississippi, covering the second-largest watershed on the planet. The Mississippi–Missouri river system drains most of 31 states of the United States, most of the Great Plains, and large areas between the Rocky and Appalachian mountains. The Mississippi–Missouri is the fourth-longest river system and has the tenth-greatest discharge in the world.\\nIn North America, to the east of the Appalachian Mountains, there are no major rivers but rather a series of rivers and streams that flow east with their terminus in the Atlantic Ocean, such as the Hudson, Saint John, and Savannah rivers. A similar instance arises with central Canadian rivers that drain into Hudson Bay; the largest being the Churchill River. On the west coast of North America, the main rivers are the Colorado, Columbia, Yukon, Fraser, and Sacramento rivers.\\nThe Colorado River drains much of the Southern Rockies and parts of the Basin and Range Province. The river flows approximately 1,450 miles (2,330 km) into the Gulf of California, during which over time it has carved out natural phenomena such as the Grand Canyon and created phenomena such as the Salton Sea. The Columbia is a large river, 1,243 miles (2,000 km) long, in central western North America and is the most powerful river on the West Coast of the Americas. In the far northwest of North America, the Yukon drains much of the Alaskan peninsula and flows 1,980 miles (3,190 km) from parts of Yukon and the Northwest Territory to the Pacific. Draining to the Arctic Ocean of Canada, the Mackenzie River drains waters from the Arctic Great Lakes of Arctic Canada, as opposed to the St Lawrence River that drains the Great Lakes of southern Canada into the Atlantic Ocean. The Mackenzie River is the largest in Canada and drains 1,805,200 square kilometers (697,000 sq mi).\\nThe largest river basin in South America is that of the Amazon, which has the highest volume flow of any river on Earth. The second largest watershed of South America is that of the Paraná River, which covers about 2.5 million km2.\\n\\n\\n=== Ecology ===\\nNorth America and South America began to develop a shared population of flora and fauna around 2.5 million years ago, when continental drift brought the two continents into contact via the Isthmus of Panama. Initially, the exchange of biota was roughly equal, with North American genera migrating into South America in about the same proportions as South American genera migrated into North America. This exchange is known as the Great American Interchange. The exchange became lopsided after roughly a million years, with the total spread of South American genera into North America far more limited in scope than the spread of North American genera into South America.\\n\\n\\n== Countries and territories ==\\n\\nThere are 35 sovereign states in the Americas, as well as an autonomous country of Denmark, three overseas departments of France, three overseas collectivities of France, and one uninhabited territory of France, eight overseas territories of the United Kingdom, three constituent countries of the Netherlands, three public bodies of the Netherlands, two unincorporated territories of the United States, and one uninhabited territory of the United States.\\n\\n\\n== Demography ==\\n\\n\\n=== Population ===\\n\\nIn 2021 the total population of the Americas was about 1.03 billion people, divided as follows:\\n\\nNorth America: 596.6 million (includes Central America and the Caribbean)\\nSouth America: 434.3 million\\n\\n\\n=== Largest urban centers ===\\n\\nThere are three urban centers that each hold titles for being the largest population area based on the three main demographic concepts:\\n\\nCity proper\\nA city proper is the locality with legally fixed boundaries and an administratively recognized urban status that is usually characterized by some form of local government.\\nUrban area\\nAn urban area is characterized by higher population density and vast human features in comparison to areas surrounding it. Urban areas may be cities, towns or conurbations, but the term is not commonly extended to rural settlements such as villages and hamlets. Urban areas are created and further developed by the process of urbanization and do not include large swaths of rural land, as do metropolitan areas.\\nMetropolitan area\\nUnlike an urban area, a metropolitan area includes not only the urban area, but also satellite cities plus intervening rural land that is socio-economically connected to the urban core city, typically by employment ties through commuting, with the urban core city being the primary labor market.\\nIn accordance with these definitions, the three largest population centers in the Americas are: Mexico City, anchor to the largest metropolitan area in the Americas; New York City, anchor to the largest urban area in the Americas; and São Paulo, the largest city proper in the Americas. All three cities maintain Alpha classification and large scale influence.\\n\\n\\tUrban centers within the Americas\\n\\t\\t\\n\\t\\t\\t\\n\\t\\t\\t\\n\\t\\t\\n\\t\\t\\n\\t\\t\\t\\n\\t\\t\\t\\n\\t\\t\\n\\t\\t\\n\\t\\t\\t\\n\\t\\t\\t\\n\\t\\t\\n\\n\\n=== Ethnology ===\\n\\nThe population of the Americas is made up of the descendants of four large ethnic groups and their combinations.\\n\\nThe Indigenous peoples of the Americas, being Amerindians and Inuit-Yupik-Unangan.\\nThose of European ancestry, mainly Spanish, English, Irish, Portuguese, German, Italian, French, and Dutch.\\nThose of African ancestry, mainly of West African descent.\\nAsians, that is, those of East Asian, South Asian, and Southeast Asian ancestry.\\nMestizos (Métis people in Canada), those of mixed European and Amerindian ancestry.\\nMulattoes, people of mixed African and European ancestry.\\nZambos (Spanish) or Cafuzos (Portuguese), those of mixed African and Indigenous ancestry.\\nThe majority of the population lives in Latin America, named for its predominant cultures, rooted in Latin Europe (including the two dominant languages, Spanish and Portuguese, both Romance languages), more specifically in the Iberian nations of Portugal and Spain (hence the use of the term Ibero-America as a synonym). Latin America is typically contrasted with Anglo-America, where English, a Germanic language, is prevalent, and which comprises Canada (with the exception of Francophone Canada rooted in Latin Europe [France]—see Quebec and Acadia) and the United States. Both countries are located in North America, with cultures deriving predominantly from British and other Germanic roots.\\n\\n\\n=== Black population ===\\n\\nThe transatlantic slave trade brought millions of Africans to the territories of the Americas under the colonial rule of European powers. In South America, Portugal played a significant role in the trafficking of enslaved Africans, with estimates suggesting that around 40% of all Africans forcibly brought to the Americas were taken to Brazil alone, to work primarily in sugar cane plantations, mining, and agricultural endeavors. In North America, the British Empire was heavily involved in the transatlantic slave trade, with the establishment of colonies such as Virginia, where enslaved Africans were primarily used as labor in tobacco plantations and later in other agricultural and domestic sectors. This system perpetuated for centuries, shaping the socio-economic landscape of all nations of the hemisphere.\\nAfter the Haitian Revolution led by Jean-Jacques Dessalines, which started in 1791 and was the only successful slave revolt in history, the world\\'s first black republic was established. It started with the massacre of the white population, between 3,000 and 5,000 white men and women of all ages were killed. Dessalines declared:\\n\\n\\n=== Religion ===\\n\\nThe most prevalent faiths in the Americas are as follows:\\n\\nChristianity (86 percent)\\nRoman Catholicism: Practiced by 69 percent of the Latin American population (61 percent in Brazil whose Roman Catholic population of 134 million is the greatest of any nation\\'s), approximately 24 percent of the United States\\' population and about 39 percent of Canada\\'s.\\nProtestantism: Practiced mostly in the United States, where half of the population are Protestant, Canada, with slightly more than a quarter of the population, and Greenland; there is a growing contingent of Evangelical and Pentecostal movements in predominantly Catholic Latin America.\\nEastern Orthodoxy: Found mostly in the United States (1 percent) and Canada; this Christian group is growing faster than many other Christian groups in Canada and now represents roughly 3 percent of the Canadian population.\\nNon-denominational Christians and other Christians (some 1,000 different Christian denominations and sects practiced in the Americas).\\nIrreligion: About 12 percent, including atheists and agnostics, as well as those who profess some form of spirituality but do not identify themselves as members of any organized religion.\\nIslam: Together, Muslims constitute about 1 percent of the North American population and 0.3 percent of all Latin Americans. It is practiced by 3 percent  of Canadians and 0.6 percent of the U.S. population. Argentina has the largest Muslim population in Latin America with up to 600,000 persons, or 1.5 percent of the population.\\nJudaism (practiced by 2 percent of North Americans—approximately 2.5 percent of the U.S. population and 1.2 percent of Canadians—and 0.23 percent of Latin Americans—Argentina has the largest Jewish population in Latin America with 200,000 members)\\nOther faiths include Buddhism; Hinduism; Sikhism; Baháʼí Faith; a wide variety of indigenous religions, many of which can be categorized as animistic; new age religions and many African and African-derived religions. Syncretic faiths can also be found throughout the Americas.\\n\\n\\n=== Languages ===\\n\\nVarious languages are spoken in the Americas. Some are of European origin, others are spoken by indigenous peoples or are the mixture of various languages like the different creoles.\\nThe most widely spoken first language in the Americas is Spanish, followed by English and Portuguese. The dominant language of Latin America is Spanish, though the most populous nation in Latin America, Brazil, speaks Portuguese. Small enclaves of French-, Dutch- and English-speaking regions also exist in Latin America, notably in French Guiana, Suriname, and Belize and Guyana respectively. Haitian Creole is dominant in the nation of Haiti, where French is also spoken. Native languages are more prominent in Latin America than in Anglo-America, with Nahuatl, Quechua, Aymara, and Guaraní as the most common. Various other native languages are spoken with less frequency across both Anglo-America and Latin America. Creole languages other than Haitian Creole are also spoken in parts of Latin America.\\nThe dominant language of Anglo-America is English. French is also official in Canada, where it is the predominant language in Quebec and an official language in New Brunswick along with English. It is also an important language in Louisiana, and in parts of New Hampshire, Maine, and Vermont. Spanish has kept an ongoing presence in the Southwestern United States, which formed part of the Viceroyalty of New Spain, especially in California and New Mexico, where a distinct variety of Spanish spoken since the 17th century has survived. It has more recently become widely spoken in other parts of the United States because of heavy immigration from Latin America. High levels of immigration in general have brought great linguistic diversity to Anglo-America, with over 300 languages known to be spoken in the United States alone, but most languages are spoken only in small enclaves and by relatively small immigrant groups.\\nThe nations of Guyana, Suriname, and Belize are generally considered not to fall into either Anglo-America or Latin America because of their language differences from Latin America, geographic differences from Anglo-America, and cultural and historical differences from both regions; English is the primary language of Guyana and Belize, and Dutch is the primary language of Suriname.\\nMost of the non-native languages have, to different degrees, evolved differently from the mother country, but are usually still mutually intelligible. Some have combined, however, which has even resulted in completely new languages, such as Papiamento, which is a combination of Portuguese, Spanish, Dutch (representing the respective colonizers), native Arawak, various African languages, and, more recently English. The lingua franca Portuñol, a mixture of Portuguese and Spanish, is spoken in the border regions of Brazil and neighboring Spanish-speaking countries. More specifically, Riverense Portuñol is spoken by around 100,000 people in the border regions of Brazil and Uruguay. Because of immigration, there are many communities where other languages are spoken from all parts of the world, especially in the United States, Brazil, Argentina, Canada, Chile, Costa Rica, and Uruguay—very important destinations for immigrants.\\n\\n\\n== Culture ==\\n\\n\\n=== Sports ===\\n\\nBaseball is one of the most popular sports in the Americas, having spread through the hemisphere after the growth of US influence in the late 19th century. It overtook cricket, a fellow bat-and-ball sport spread by earlier British influence, in most places outside of the Commonwealth Caribbean. Other American sports, such as basketball, have grown throughout the region over time.\\n\\n\\n== Terminology ==\\n\\n\\n=== History ===\\n\\nThe region was initially termed America or New India on the Mercator maps.\\n\\n\\n=== English ===\\n\\nSpeakers of English generally refer to the landmasses of North America and South America as the Americas, the Western Hemisphere, or the New World. The adjective American may be used to indicate something pertaining to the Americas, but this term is primarily used in English to indicate something pertaining to the United States. Some non-ambiguous alternatives exist, such as the adjective Pan-American, or New Worlder as a demonym for a resident of the closely related New World. Use of America in the hemispherical sense is sometimes retained, or can occur when translated from other languages. For example, the Association of National Olympic Committees (ANOC) in Paris maintains a single continental association for \"America\", represented by one of the five Olympic rings.\\nAmerican essayist H. L. Mencken said, \"The Latin-Americans use Norteamericano in formal writing, but, save in Panama, prefer nicknames in colloquial speech.\" To avoid \"American\" one can use constructed terms in their languages derived from \"United States\" or even \"North America\". In Canada, its southern neighbor is often referred to as \"the United States\", \"the U.S.A.\", or (informally) \"the States\", while U.S. citizens are generally referred to as \"Americans\". Most Canadians resent being referred to as \"Americans\".\\n\\n\\n=== Spanish ===\\nIn Spanish, América is a single continent composed of the subcontinents of América del Sur and América del Norte, the land bridge of América Central, and the islands of the Antillas. Americano or americana in Spanish refers to a person from América in a similar way that in which europeo or europea refers to a person from Europa. The terms sudamericano/a, centroamericano/a, antillano/a and norteamericano/a can be used to more specifically refer to the location where a person may live.\\nCitizens of the United States of America are normally referred to by the term estadounidense (rough literal translation: \"United Statesian\") instead of americano or americana which is discouraged, and the country\\'s name itself is officially translated as Estados Unidos de América (United States of America), commonly abbreviated as Estados Unidos (EEUU). Also, the term norteamericano (North American) may refer to a citizen of the United States. This term is primarily used to refer to citizens of the United States, and less commonly to those of other North American countries.\\n\\n\\n=== Portuguese ===\\nIn Portuguese, América is a single continent composed of América do Sul (South America), América Central (Central America) and América do Norte (North America). It can be ambiguous, as América can be used to refer to the United States of America, but is avoided in print and formal environments.\\n\\n\\n=== French ===\\nIn French, the word américain may be used for things relating to the Americas; however, similar to English, it is most often used for things relating to the United States, with the term états-unien sometimes used for clarity. Panaméricain may be used as an adjective to refer to the Americas without ambiguity. French speakers may use the noun Amérique to refer to the whole landmass as one continent, or two continents, Amérique du Nord and Amérique du Sud. In French, Amérique is seldom used to refer to the United States, leading to some ambiguity when it is. Similar to English usage, les Amériques or des Amériques is used to refer unambiguously to the Americas.\\n\\n\\n=== Dutch ===\\nIn Dutch, the word Amerika mostly refers to the United States. Although the United States is equally often referred to as de Verenigde Staten (\"the United States\") or de VS (\"the US\"), Amerika relatively rarely refers to the Americas, but it is the only commonly used Dutch word for the Americas. This often leads to ambiguity; and to stress that something concerns the Americas as a whole, Dutch uses a combination, namely Noord- en Zuid-Amerika (North and South America).\\nLatin America and Central America are generally referred to as Latijns Amerika and Midden-Amerika respectively.\\nThe adjective Amerikaans is most often used for things or people relating to the United States. There are no alternative words to distinguish between things relating to the United States or to the Americas. Dutch uses the local alternative for things relating to elsewhere in the Americas, such as Argentijns for Argentine, etc.\\n\\n\\n== Multinational organizations ==\\nThe following is a list of multinational organizations in the Americas.\\n\\n\\n== Economy ==\\n\\nIn exports and imports, in 2020, the United States was the world\\'s second largest exporter (US$1.64 trillion) and the largest importer (US$2.56 trillion). Mexico was the tenth largest exporter and importer. Canada was the twelfth largest exporter and importer. Brazil was the 24th largest exporter and the 28th largest importer. Chile was the 45th largest exporter and the 47th largest importer. Argentina was the 46th largest exporter and the 52nd largest importer. Colombia was the 54th largest exporter and the 51st largest importer; among others.\\nThe agriculture of the continent is very strong and varied. Countries such as United States, Brazil, Canada, Mexico, and Argentina are among the largest agricultural producers on the planet. In 2019, the continent dominated the world production of soy (almost 90% of the world total, with Brazil, the United States, Argentina, Paraguay, Canada and Bolivia among the 10 largest on the planet), sugarcane (about 55% of the world total, with Brazil, Mexico, the United States, and Guatemala among the 10 largest on the planet), coffee (about 55% of the world total, with Brazil, Colombia, Honduras, Peru, and Guatemala among the 10 largest on the planet) and maize (about 48% of the world total, with the United States, Brazil, Argentina, and Mexico among the 10 largest on the planet). The continent also produces almost 40% of world\\'s orange (with Brazil, the United States, and Mexico among the top 10 producers), about 37% of world\\'s pineapple (with Costa Rica, Brazil, Mexico, and Colombia among the 10 largest producers), about 35% of world\\'s lemon (with Mexico, Argentina, Brazil, and the United States among the 10 largest producers) and about 30% of world\\'s cotton (with the United States, Brazil, Mexico and Argentina among the top 10 producers), among several other products.\\nIn livestock, America also has giant productions. In 2018, the continent produced around 45% of the world\\'s beef (with the United States, Brazil, Argentina, Mexico, and Canada among the world\\'s 10 largest producers); about 36% of the world\\'s chicken meat (with the United States, Brazil, and Mexico among the world\\'s 10 largest producers), and about 28% of the world\\'s cow\\'s milk (with the United States and Brazil among the 10 largest producers in the world), among other products.\\nIn industrial terms, the World Bank lists the top producing countries each year, based on the total value of production. According to the 2019 list, the United States has the second most valuable industry in the world (US$2.3 trillion), Mexico has the 12th most valuable industry in the world (US$217.8 billion), Brazil has the 13th most valuable industry in the world (US$173.6 billion), Canada has the 15th most valuable industry in the world (US$151.7 billion), Venezuela the 30th largest (US$58.2 billion, but depends on the oil to obtain this amount), Argentina was the 31st largest (US$57.7 billion), Colombia the 46th largest (US$35.4 billion), Peru the 50th largest ($28.7 billion), and Chile the 51st largest (US$28.3 billion), among others.\\nIn the production of oil, the continent had 8 of the 30 largest world producers in 2020: United States (1st), Canada (4th), Brazil (8th), Mexico (14th), Colombia (20th), Venezuela (26th), Ecuador (27th), and Argentina (28th).\\nIn the production of natural gas, the continent had 8 of the 32 largest world producers in 2015: United States (1st), Canada (5th), Argentina (18th), Trinidad and Tobago (20th), Mexico (21st), Venezuela (28th), Bolivia (31st), and Brazil (32nd).\\nIn the production of coal, the continent had 5 of the 30 largest world producers in 2018: United States (3rd), Colombia (12th), Canada (13th), Mexico (24th), and Brazil (27th).\\nIn the production of vehicles, the continent had 5 of the 30 largest world producers in 2019: United States (2nd), Mexico (7th), Brazil (9th), Canada (12th), and Argentina (28th).\\nIn the production of steel, the continent had 5 of the 31 largest world producers in 2019: United States (4th), Brazil (9th), Mexico (15th), Canada (18th), and Argentina (31st).\\nIn mining, the continent has large productions of gold (mainly in the United States, Canada, Peru, Mexico, Brazil, and Argentina); silver (mainly in Mexico, Peru, Chile, Bolivia, Argentina, and the United States); copper (mainly in Chile, Peru, the United States, Mexico, and Brazil); platinum (Canada and the United States); iron ore (Brazil, Canada, the United States, Peru, and Chile); zinc (Peru, the United States, Mexico, Bolivia, Canada, and Brazil); molybdenum (Chile, Peru, Mexico, Canada, and the United States); lithium (Chile, Argentina, Brazil, and Canada); lead (Peru, the United States, Mexico, and Bolivia); bauxite (Brazil, Jamaica, Canada, and the United States); tin (Peru, Bolivia, and Brazil); manganese (Brazil and Mexico); antimony (Bolivia, Mexico, Guatemala, Canada, and Ecuador); nickel (Canada, Brazil, Dominican Republic, Cuba, and the United States); niobium (Brazil and Canada); rhenium (Chile and the United States); and iodine (Chile), among others.\\nDominica, Panama, and the Dominican Republic have the fastest-growing economy in the Americas according to the International Monetary Fund (IMF), 16, five to seven countries in the southern part of the Americas had weakening economies in decline, compared to only three countries in the northern part of the Americas. Haiti has the lowest GDP per capita in the Americas, although its economy was growing slightly as of 2016.\\n\\n\\n== See also ==\\n\\n\\n== Notes ==\\n\\n\\n== References ==\\n\\n\\n== Further reading ==\\n\\n\\n== External links ==\\n\\nUnited Nations population data by latest available Census: 2008–2009\\nOrganization of American States\\nCouncil on Hemispheric Affairs\\nGannett, Henry; Ingersoll, Ernest; Winship, George Parker (1905). \"America and others\" . New International Encyclopedia.'"
            ],
            "application/vnd.google.colaboratory.intrinsic+json": {
              "type": "string"
            }
          },
          "metadata": {},
          "execution_count": 9
        }
      ]
    },
    {
      "cell_type": "code",
      "source": [
        "# Recovering documents using Bag-of-Words:\n",
        "import string\n",
        "punctuation = string.punctuation\n",
        "\n",
        "import nltk\n",
        "nltk.download('punkt')\n",
        "nltk.download('stopwords')\n",
        "\n",
        "from nltk.tokenize import word_tokenize\n",
        "\n",
        "stopwords = nltk.corpus.stopwords.words('english')\n",
        "\n",
        "documents['Honduras'].keys()"
      ],
      "metadata": {
        "colab": {
          "base_uri": "https://localhost:8080/",
          "height": 258
        },
        "id": "T5JAKvVz9vHQ",
        "outputId": "2c2153e6-b51a-4e35-f310-1f363610ba78"
      },
      "execution_count": 10,
      "outputs": [
        {
          "output_type": "stream",
          "name": "stderr",
          "text": [
            "[nltk_data] Downloading package punkt to /root/nltk_data...\n",
            "[nltk_data]   Unzipping tokenizers/punkt.zip.\n",
            "[nltk_data] Downloading package stopwords to /root/nltk_data...\n",
            "[nltk_data]   Unzipping corpora/stopwords.zip.\n"
          ]
        },
        {
          "output_type": "error",
          "ename": "KeyError",
          "evalue": "'Honduras'",
          "traceback": [
            "\u001b[0;31m---------------------------------------------------------------------------\u001b[0m",
            "\u001b[0;31mKeyError\u001b[0m                                  Traceback (most recent call last)",
            "\u001b[0;32m<ipython-input-10-8c8f028b7260>\u001b[0m in \u001b[0;36m<cell line: 0>\u001b[0;34m()\u001b[0m\n\u001b[1;32m     11\u001b[0m \u001b[0mstopwords\u001b[0m \u001b[0;34m=\u001b[0m \u001b[0mnltk\u001b[0m\u001b[0;34m.\u001b[0m\u001b[0mcorpus\u001b[0m\u001b[0;34m.\u001b[0m\u001b[0mstopwords\u001b[0m\u001b[0;34m.\u001b[0m\u001b[0mwords\u001b[0m\u001b[0;34m(\u001b[0m\u001b[0;34m'english'\u001b[0m\u001b[0;34m)\u001b[0m\u001b[0;34m\u001b[0m\u001b[0;34m\u001b[0m\u001b[0m\n\u001b[1;32m     12\u001b[0m \u001b[0;34m\u001b[0m\u001b[0m\n\u001b[0;32m---> 13\u001b[0;31m \u001b[0mdocuments\u001b[0m\u001b[0;34m[\u001b[0m\u001b[0;34m'Honduras'\u001b[0m\u001b[0;34m]\u001b[0m\u001b[0;34m.\u001b[0m\u001b[0mkeys\u001b[0m\u001b[0;34m(\u001b[0m\u001b[0;34m)\u001b[0m\u001b[0;34m\u001b[0m\u001b[0;34m\u001b[0m\u001b[0m\n\u001b[0m",
            "\u001b[0;31mKeyError\u001b[0m: 'Honduras'"
          ]
        }
      ]
    },
    {
      "cell_type": "code",
      "source": [
        "# Defining the function that will be used to extract the most frequent tokens in documents:\n",
        "def extract_tokens_freq(text):\n",
        "  freq = {}\n",
        "  more_stopwords = ['===', '==', \"''\", '``']\n",
        "  tokens = word_tokenize(texto)\n",
        "  tokens = [token.lower() for token in tokens if token.lower() not in punctuation and token.lower() not in stopwords and token.lower() not in more_stopwords]\n",
        "  for token in tokens:\n",
        "    if not token in freq:\n",
        "      freq[token] = 1\n",
        "      else:\n",
        "        freq[token] += 1\n",
        "        return freq"
      ],
      "metadata": {
        "id": "oRccdjatCZK_"
      },
      "execution_count": null,
      "outputs": []
    },
    {
      "cell_type": "code",
      "source": [
        "# Defining the 10 most important words for all documents, which will be used as parameters for the vectors:\n",
        "for document in documents:\n",
        "  freq_tokens = extract_tokens_freq(documents[documeno]['content'])\n",
        "  top_10 = sorted(freq_tokens.items(), key=lambda x: x[1], reverse=True)[:10]\n",
        "  documents[document]['top_10'] = dict(top_10)\n",
        "\n",
        "  documents['Brazil']['top_10']\n",
        "\n",
        "  all_top_10 = []\n",
        "\n",
        "for document in documents:\n",
        "  top_10 = documents[document]['top_10']\n",
        "  all_top_10.extend([token for token in top_10])\n",
        "\n",
        "print(all_top_10)\n",
        "\n",
        "print(len(all_top_10))\n",
        "\n",
        "all_top_10 = set(all_top_10)\n",
        "print(len(alls_top_10))"
      ],
      "metadata": {
        "id": "qWv34bRkC_3D"
      },
      "execution_count": null,
      "outputs": []
    },
    {
      "cell_type": "code",
      "source": [
        "# Defining the function to vectorize documents and user search:\n",
        "def vectorize(text):\n",
        "  vector = []\n",
        "  tokens_freq = extract_tokens_freq(text)\n",
        "  for token in all_top_10:\n",
        "    vector.append(freq_tokens.get(token, 0))\n",
        "    return vector\n",
        "\n",
        "vectors = []\n",
        "titles = []\n",
        "\n",
        "for document in documents:\n",
        "  titles.append(document)\n",
        "  vector = vectorize(documents[document]['content'])\n",
        "  vectors.append(vector)\n",
        "  print(vector)"
      ],
      "metadata": {
        "id": "kcGITxzqEFcR"
      },
      "execution_count": null,
      "outputs": []
    },
    {
      "cell_type": "code",
      "source": [
        "# Defining functions to calculate similarity between documents and user search using vectors:\n",
        "from sklearn.metrics.pairwise import cosine_similarity\n",
        "import numpy as np\n",
        "\n",
        "def top_vectors(question)):\n",
        "  question_vec = vectorize(question)\n",
        "  similarities = cosine_similarity(np.asarray(question_vec).reshape(1, -1), np.asarray(vectors))\n",
        "  ranking = sorted([(titles[i], similarity) for i, similarity in enumerate(similarities[0])], key=lambda x: x[1], reverse=True)\n",
        "  return ranking\n",
        "\n",
        "def recover_using_vector(question):\n",
        "  best_result = top_vectors(question)[0]\n",
        "  title = best_result[0]\n",
        "  similarity = best_result[1]\n",
        "  return \"Similarity: {}\\n{}\\n\\n{}\".format(similarity, question, documents[title]['content'])\n",
        "\n",
        "  top_vectors('Brazil')\n",
        "  top_vectors('Colombia')\n",
        "  top_vectors('Paraguay')\n",
        "\n",
        "  recover_using_vector('What is the brazilian capital?')"
      ],
      "metadata": {
        "id": "Qf3DI5oLE-WT"
      },
      "execution_count": null,
      "outputs": []
    }
  ]
}