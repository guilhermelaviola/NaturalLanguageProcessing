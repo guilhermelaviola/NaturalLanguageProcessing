{
  "nbformat": 4,
  "nbformat_minor": 0,
  "metadata": {
    "colab": {
      "provenance": [],
      "authorship_tag": "ABX9TyNP3XJB/mgwdnavhfM1x5q5",
      "include_colab_link": true
    },
    "kernelspec": {
      "name": "python3",
      "display_name": "Python 3"
    },
    "language_info": {
      "name": "python"
    }
  },
  "cells": [
    {
      "cell_type": "markdown",
      "metadata": {
        "id": "view-in-github",
        "colab_type": "text"
      },
      "source": [
        "<a href=\"https://colab.research.google.com/github/guilhermelaviola/NaturalLanguageProcessing/blob/main/In.ipynb\" target=\"_parent\"><img src=\"https://colab.research.google.com/assets/colab-badge.svg\" alt=\"Open In Colab\"/></a>"
      ]
    },
    {
      "cell_type": "markdown",
      "source": [
        "# **Analysis and interpretation of Natural Language**"
      ],
      "metadata": {
        "id": "HwHb6VD22ge3"
      }
    },
    {
      "cell_type": "code",
      "source": [
        "!pip install python-Levenshtein"
      ],
      "metadata": {
        "colab": {
          "base_uri": "https://localhost:8080/"
        },
        "id": "enxK_GAzwaFJ",
        "outputId": "d1a6bffb-8a30-4da7-905a-82edfb1531f6"
      },
      "execution_count": 2,
      "outputs": [
        {
          "output_type": "stream",
          "name": "stdout",
          "text": [
            "Collecting python-Levenshtein\n",
            "  Downloading python_Levenshtein-0.26.1-py3-none-any.whl.metadata (3.7 kB)\n",
            "Collecting Levenshtein==0.26.1 (from python-Levenshtein)\n",
            "  Downloading levenshtein-0.26.1-cp311-cp311-manylinux_2_17_x86_64.manylinux2014_x86_64.whl.metadata (3.2 kB)\n",
            "Collecting rapidfuzz<4.0.0,>=3.9.0 (from Levenshtein==0.26.1->python-Levenshtein)\n",
            "  Downloading rapidfuzz-3.12.1-cp311-cp311-manylinux_2_17_x86_64.manylinux2014_x86_64.whl.metadata (11 kB)\n",
            "Downloading python_Levenshtein-0.26.1-py3-none-any.whl (9.4 kB)\n",
            "Downloading levenshtein-0.26.1-cp311-cp311-manylinux_2_17_x86_64.manylinux2014_x86_64.whl (162 kB)\n",
            "\u001b[2K   \u001b[90m━━━━━━━━━━━━━━━━━━━━━━━━━━━━━━━━━━━━━━━━\u001b[0m \u001b[32m162.7/162.7 kB\u001b[0m \u001b[31m4.3 MB/s\u001b[0m eta \u001b[36m0:00:00\u001b[0m\n",
            "\u001b[?25hDownloading rapidfuzz-3.12.1-cp311-cp311-manylinux_2_17_x86_64.manylinux2014_x86_64.whl (3.1 MB)\n",
            "\u001b[2K   \u001b[90m━━━━━━━━━━━━━━━━━━━━━━━━━━━━━━━━━━━━━━━━\u001b[0m \u001b[32m3.1/3.1 MB\u001b[0m \u001b[31m31.8 MB/s\u001b[0m eta \u001b[36m0:00:00\u001b[0m\n",
            "\u001b[?25hInstalling collected packages: rapidfuzz, Levenshtein, python-Levenshtein\n",
            "Successfully installed Levenshtein-0.26.1 python-Levenshtein-0.26.1 rapidfuzz-3.12.1\n"
          ]
        }
      ]
    },
    {
      "cell_type": "code",
      "source": [
        "# Importing all the necessary libraries:\n",
        "import nltk\n",
        "from nltk.tokenize import word_tokenize\n",
        "from nltk.corpus import stopwords\n",
        "import numpy as np\n",
        "from collections import Counter\n",
        "from Levenshtein import distance as levenshtein_distance"
      ],
      "metadata": {
        "id": "qGLoLTMIuwQX"
      },
      "execution_count": 3,
      "outputs": []
    },
    {
      "cell_type": "code",
      "source": [
        "# Downloading necessary NLTK resources:\n",
        "nltk.download('punkt_tab')\n",
        "nltk.download('stopwords')"
      ],
      "metadata": {
        "colab": {
          "base_uri": "https://localhost:8080/"
        },
        "id": "SRakntIvwRQx",
        "outputId": "74a8b6d5-9184-45fe-e7d2-c96db3a04601"
      },
      "execution_count": 9,
      "outputs": [
        {
          "output_type": "stream",
          "name": "stderr",
          "text": [
            "[nltk_data] Downloading package punkt_tab to /root/nltk_data...\n",
            "[nltk_data]   Unzipping tokenizers/punkt_tab.zip.\n",
            "[nltk_data] Downloading package stopwords to /root/nltk_data...\n",
            "[nltk_data]   Package stopwords is already up-to-date!\n"
          ]
        },
        {
          "output_type": "execute_result",
          "data": {
            "text/plain": [
              "True"
            ]
          },
          "metadata": {},
          "execution_count": 9
        }
      ]
    },
    {
      "cell_type": "code",
      "source": [
        "# Example text and query\n",
        "# Opening and displaying the .txt file:\n",
        "with open('texto.txt') as f:\n",
        "  text = f.read()\n",
        "\n",
        "print(text)\n",
        "\n",
        "query = 'importância do processamento de linguagem natural'"
      ],
      "metadata": {
        "colab": {
          "base_uri": "https://localhost:8080/"
        },
        "id": "INweZee0y-sL",
        "outputId": "60bbfaa6-cd78-4390-fc70-c1b23fe1829a"
      },
      "execution_count": 10,
      "outputs": [
        {
          "output_type": "stream",
          "name": "stdout",
          "text": [
            "A crescente quantidade de dados textuais gerada diariamente tem impulsionado a importância do processamento de linguagem natural (PLN) e das técnicas de recuperação de informação (RI). Com o objetivo de extrair informações relevantes de grandes volumes de dados, a RI utiliza métodos avançados para encontrar e classificar documentos que atendam a consultas específicas dos usuários. A distância de Levenshtein e o modelo bag-of-words são duas abordagens distintas, mas eficazes, para medir a similaridade entre textos e consultas. A distância de Levenshtein calcula o número mínimo de operações necessárias para transformar uma string em outra, enquanto o modelo bag-of-words representa os textos como vetores de frequência de palavras, permitindo a comparação baseada na similaridade vetorial. Essas técnicas são fundamentais para melhorar a precisão dos sistemas de busca e a relevância dos resultados apresentados aos usuários.\n"
          ]
        }
      ]
    },
    {
      "cell_type": "code",
      "source": [
        "# Defining the stopwords in Portuguese and tokenizing the words:\n",
        "def preprocess_text(text):\n",
        "    stop_words = set(stopwords.words('portuguese'))\n",
        "    tokens = word_tokenize(text.lower())\n",
        "    tokens = [word for word in tokens if word.isalnum() and word not in stop_words]\n",
        "    return tokens"
      ],
      "metadata": {
        "id": "w41Dm0JBwOqx"
      },
      "execution_count": 11,
      "outputs": []
    },
    {
      "cell_type": "code",
      "source": [
        "# Preprocessing the text and query:\n",
        "tokens_text = preprocess_text(text)\n",
        "tokens_query = preprocess_text(query)"
      ],
      "metadata": {
        "id": "uLgaB6QWzMSi"
      },
      "execution_count": 12,
      "outputs": []
    },
    {
      "cell_type": "code",
      "source": [
        "# Implementing the ri_levenshtein function to calculate the Levenshtein distance between the query and the documents:\n",
        "def ri_levenshtein(query, text):\n",
        "    distance = levenshtein_distance(query, text)\n",
        "    print(f'Levenshtein Distance: {distance}')\n",
        "\n",
        "ri_levenshtein(query, text)"
      ],
      "metadata": {
        "colab": {
          "base_uri": "https://localhost:8080/"
        },
        "id": "fHo1RF8MzxPw",
        "outputId": "44a1b6d0-82ef-4bf6-9f0a-b0a237d60092"
      },
      "execution_count": 13,
      "outputs": [
        {
          "output_type": "stream",
          "name": "stdout",
          "text": [
            "Levenshtein Distance: 882\n"
          ]
        }
      ]
    },
    {
      "cell_type": "code",
      "source": [
        "# Implementating of Information Retrieval Using Bag-of-Words:\n",
        "def ri_bag_of_words(query_tokens, text_tokens):\n",
        "    query_counter = Counter(query_tokens)\n",
        "    text_counter = Counter(text_tokens)\n",
        "    all_words = set(query_counter.keys()).union(set(text_counter.keys()))\n",
        "\n",
        "    # Create vector representations\n",
        "    query_vector = np.array([query_counter[word] for word in all_words])\n",
        "    text_vector = np.array([text_counter[word] for word in all_words])\n",
        "\n",
        "    # Compute cosine similarity\n",
        "    dot_product = np.dot(query_vector, text_vector)\n",
        "    norm_query = np.linalg.norm(query_vector)\n",
        "    norm_text = np.linalg.norm(text_vector)\n",
        "    similarity = dot_product / (norm_query * norm_text) if norm_query and norm_text else 0\n",
        "\n",
        "    print(f'Bag-of-Words Similarity: {similarity:.4f}')\n",
        "\n",
        "ri_bag_of_words(tokens_query, tokens_text)"
      ],
      "metadata": {
        "colab": {
          "base_uri": "https://localhost:8080/"
        },
        "id": "ZvfuBUHb0BrH",
        "outputId": "713fc212-2fa6-44de-d483-30c7b28e41a6"
      },
      "execution_count": 14,
      "outputs": [
        {
          "output_type": "stream",
          "name": "stdout",
          "text": [
            "Bag-of-Words Similarity: 0.2031\n"
          ]
        }
      ]
    }
  ]
}