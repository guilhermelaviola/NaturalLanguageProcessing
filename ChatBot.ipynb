{
  "nbformat": 4,
  "nbformat_minor": 0,
  "metadata": {
    "colab": {
      "provenance": [],
      "authorship_tag": "ABX9TyNO+zl0RGNK8Mh94YjisW9g",
      "include_colab_link": true
    },
    "kernelspec": {
      "name": "python3",
      "display_name": "Python 3"
    },
    "language_info": {
      "name": "python"
    }
  },
  "cells": [
    {
      "cell_type": "markdown",
      "metadata": {
        "id": "view-in-github",
        "colab_type": "text"
      },
      "source": [
        "<a href=\"https://colab.research.google.com/github/guilhermelaviola/NaturalLanguageProcessing/blob/main/ChatBot.ipynb\" target=\"_parent\"><img src=\"https://colab.research.google.com/assets/colab-badge.svg\" alt=\"Open In Colab\"/></a>"
      ]
    },
    {
      "cell_type": "markdown",
      "source": [
        "# **Chatbot**"
      ],
      "metadata": {
        "id": "EfGJnJYxXiAK"
      }
    },
    {
      "cell_type": "code",
      "execution_count": 11,
      "metadata": {
        "colab": {
          "base_uri": "https://localhost:8080/"
        },
        "id": "aE8sKlU6U7u0",
        "outputId": "5f7bdfa9-a775-4885-f246-2b864f07d12f"
      },
      "outputs": [
        {
          "output_type": "stream",
          "name": "stderr",
          "text": [
            "[nltk_data] Downloading package punkt to /root/nltk_data...\n",
            "[nltk_data]   Package punkt is already up-to-date!\n"
          ]
        },
        {
          "output_type": "execute_result",
          "data": {
            "text/plain": [
              "True"
            ]
          },
          "metadata": {},
          "execution_count": 11
        }
      ],
      "source": [
        "# Importing all the necessary libraries:\n",
        "import nltk\n",
        "from textblob import TextBlob\n",
        "from nltk.chat.util import Chat, reflections\n",
        "from IPython import get_ipython\n",
        "from IPython.display import display\n",
        "\n",
        "# Ensuring the required NLTK resources are downloaded:\n",
        "nltk.download('punkt')"
      ]
    },
    {
      "cell_type": "code",
      "source": [
        "# Analyzing the sentiment of a given text:\n",
        "def analyze_sentiment(text):\n",
        "    analysis = TextBlob(text)\n",
        "    polarity = analysis.sentiment.polarity\n",
        "    if polarity > 0:\n",
        "        return 'positive'\n",
        "    elif polarity < 0:\n",
        "        return 'negative'\n",
        "    else:\n",
        "        return 'neutral'"
      ],
      "metadata": {
        "id": "KT8nuGcAVLw8"
      },
      "execution_count": 12,
      "outputs": []
    },
    {
      "cell_type": "code",
      "source": [
        "# Defining the chatbot responses:\n",
        "pairs = [\n",
        "    [r\"hi|hello|hey\", [\"Hello! How can I help you today?\", \"Hey there! What’s up?\"]],\n",
        "    [r\"(.*) your name\", [\"I'm ChatBot, your friendly assistant.\"]],\n",
        "    [r\"(.*) help\", [\"I'm here to assist you. What do you need help with?\"]],\n",
        "    [r\"bye|goodbye\", [\"Goodbye! Have a great day!\", \"See you later!\"]],\n",
        "]\n",
        "\n",
        "# chatbot = Chat(pairs, reflections)"
      ],
      "metadata": {
        "id": "PRD7j_chVUIr"
      },
      "execution_count": 13,
      "outputs": []
    },
    {
      "cell_type": "code",
      "source": [
        "# Getting a response from the chatbot based on sentiment analysis:\n",
        "def chatbot_response(user_input):\n",
        "    # Initialize the chatbot within the function scope\n",
        "    chatbot = Chat(pairs, reflections)\n",
        "    sentiment = analyze_sentiment(user_input)\n",
        "    response = chatbot.respond(user_input)\n",
        "\n",
        "    if sentiment == 'positive':\n",
        "        return response + \" I'm glad to hear that! 😊\"\n",
        "    elif sentiment == 'negative':\n",
        "        return response + \" I'm sorry to hear that. Is there anything I can do to help? 😔\"\n",
        "    else:\n",
        "        return response"
      ],
      "metadata": {
        "id": "OXVaPjkrVcTb"
      },
      "execution_count": 14,
      "outputs": []
    },
    {
      "cell_type": "code",
      "source": [
        "# Chatbot interaction loop:\n",
        "def chat():\n",
        "    print(\"Hello! I'm your chatbot. Type 'bye' to exit.\")\n",
        "    while True:\n",
        "        user_input = input(\"You: \")\n",
        "        if user_input.lower() in ['bye', 'exit', 'quit']:\n",
        "            print(\"ChatBot: Goodbye! Have a great day!\")\n",
        "            break\n",
        "        response = chatbot_response(user_input)\n",
        "        print(f\"ChatBot: {response}\")"
      ],
      "metadata": {
        "id": "_3k2t4lUVe4r"
      },
      "execution_count": 15,
      "outputs": []
    },
    {
      "cell_type": "code",
      "source": [
        "# Running the chatbot:\n",
        "if __name__ == \"__main__\":\n",
        "    chat()"
      ],
      "metadata": {
        "colab": {
          "base_uri": "https://localhost:8080/"
        },
        "id": "zyvCJDMRVgpM",
        "outputId": "8c7afa4a-973f-4162-fa9f-0da44c561804"
      },
      "execution_count": null,
      "outputs": [
        {
          "output_type": "stream",
          "name": "stdout",
          "text": [
            "Hello! I'm your chatbot. Type 'bye' to exit.\n",
            "You: Hello\n",
            "ChatBot: Hello! How can I help you today?\n",
            "You: I need help with a subject\n",
            "ChatBot: I'm here to assist you. What do you need help with? I'm sorry to hear that. Is there anything I can do to help? 😔\n",
            "You: I want to know how to get to 31st street\n",
            "ChatBot: None\n"
          ]
        }
      ]
    }
  ]
}